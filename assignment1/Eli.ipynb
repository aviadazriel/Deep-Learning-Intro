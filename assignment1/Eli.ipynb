{
 "cells": [
  {
   "cell_type": "code",
   "execution_count": 23,
   "metadata": {},
   "outputs": [
    {
     "name": "stdout",
     "output_type": "stream",
     "text": [
      "The autoreload extension is already loaded. To reload it, use:\n",
      "  %reload_ext autoreload\n"
     ]
    }
   ],
   "source": [
    "import numpy as np\n",
    "from keras.datasets import mnist\n",
    "from sklearn.model_selection import train_test_split\n",
    "from fc_net import *\n",
    "from sklearn.preprocessing import OneHotEncoder\n",
    "\n",
    "%load_ext autoreload\n",
    "%autoreload 2\n",
    "%matplotlib inline"
   ]
  },
  {
   "cell_type": "code",
   "execution_count": 24,
   "metadata": {},
   "outputs": [],
   "source": [
    "# load data set\n",
    "np.random.seed(42)\n",
    "(X_train, y_train), (X_test, y_test) = mnist.load_data()\n",
    "X_train, X_val, y_train, y_val = train_test_split(X_train, y_train, \n",
    "                                                  test_size=0.2,\n",
    "                                                  stratify=y_train, random_state=42)"
   ]
  },
  {
   "cell_type": "code",
   "execution_count": 25,
   "metadata": {},
   "outputs": [
    {
     "name": "stdout",
     "output_type": "stream",
     "text": [
      "x_train.shape = (48000, 28, 28)\n",
      "y_train.shape = (48000,)\n",
      "\n",
      "x_test.shape = (10000, 28, 28)\n",
      "y_test.shape = (10000,)\n",
      "\n",
      "x_val.shape = (12000, 28, 28)\n",
      "y_val.shape = (12000,)\n",
      "\n",
      "classes =  [0, 1, 2, 3, 4, 5, 6, 7, 8, 9]\n"
     ]
    }
   ],
   "source": [
    "### print shapes\n",
    "print(f\"x_train.shape = {X_train.shape}\")\n",
    "print(f\"y_train.shape = {y_train.shape}\\n\")\n",
    "print(f\"x_test.shape = {X_test.shape}\")\n",
    "print(f\"y_test.shape = {y_test.shape}\\n\")\n",
    "print(f\"x_val.shape = {X_val.shape}\")\n",
    "print(f\"y_val.shape = {y_val.shape}\\n\")\n",
    "\n",
    "### print claess\n",
    "print(\"classes = \", list(np.unique(y_train)))"
   ]
  },
  {
   "cell_type": "code",
   "execution_count": 26,
   "metadata": {},
   "outputs": [
    {
     "name": "stdout",
     "output_type": "stream",
     "text": [
      "x_train.shape = (48000, 784)\n",
      "y_train_encoded.shape = (48000, 10)\n",
      "\n",
      "x_test.shape = (10000, 784)\n",
      "y_test_encoded.shape = (10000, 10)\n",
      "\n",
      "x_val.shape = (12000, 784)\n",
      "y_val_encoded.shape = (12000, 10)\n",
      "\n"
     ]
    }
   ],
   "source": [
    "def one_hot_y(y):\n",
    "    ohe = OneHotEncoder(categories=[range(10)], sparse=False)\n",
    "    return ohe.fit_transform(y.reshape(-1,1))\n",
    "\n",
    "def assert_one_hot(y, y_ohe):\n",
    "    for label, encoded_label in zip(y, y_ohe):\n",
    "        assert label == np.flatnonzero(encoded_label)[0]\n",
    "        \n",
    "y_train_encoded, y_test_encoded, y_val_encoded,  = one_hot_y(y_train), one_hot_y(y_test), one_hot_y(y_val)\n",
    "assert_one_hot(y_train, y_train_encoded)\n",
    "assert_one_hot(y_test, y_test_encoded)\n",
    "assert_one_hot(y_val, y_val_encoded)\n",
    "\n",
    "# reshaping Xs\n",
    "X_train = X_train.reshape(-1, 784)\n",
    "X_test = X_test.reshape(-1, 784)\n",
    "X_val = X_val.reshape(-1, 784)\n",
    "\n",
    "print(f\"x_train.shape = {X_train.shape}\")\n",
    "print(f\"y_train_encoded.shape = {y_train_encoded.shape}\\n\")\n",
    "print(f\"x_test.shape = {X_test.shape}\")\n",
    "print(f\"y_test_encoded.shape = {y_test_encoded.shape}\\n\")\n",
    "print(f\"x_val.shape = {X_val.shape}\")\n",
    "print(f\"y_val_encoded.shape = {y_val_encoded.shape}\\n\")"
   ]
  },
  {
   "cell_type": "code",
   "execution_count": 27,
   "metadata": {},
   "outputs": [
    {
     "name": "stdout",
     "output_type": "stream",
     "text": [
      "X.shape = (32, 784)\n",
      "y.shape = (32, 10)\n",
      "\n"
     ]
    }
   ],
   "source": [
    "## for testing\n",
    "X, y = next(next_batch(X_train, y_test_encoded, 32))\n",
    "print(f\"X.shape = {X.shape}\")\n",
    "print(f\"y.shape = {y.shape}\\n\")"
   ]
  },
  {
   "cell_type": "code",
   "execution_count": 28,
   "metadata": {},
   "outputs": [],
   "source": [
    "params, costs = L_layer_model(X_train, y_train_encoded,\n",
    "                              layers_dims=[20,7,5,10],\n",
    "                              learning_rate=0.09,\n",
    "                              num_iterations=500,\n",
    "                              batch_size=32)"
   ]
  },
  {
   "cell_type": "code",
   "execution_count": 29,
   "metadata": {},
   "outputs": [
    {
     "name": "stdout",
     "output_type": "stream",
     "text": [
      "W1.shape = (784, 20)\n",
      "W2.shape = (20, 7)\n",
      "W3.shape = (7, 5)\n",
      "W4.shape = (5, 10)\n",
      "W5.shape = (10, 10)\n"
     ]
    },
    {
     "data": {
      "image/png": "[encoded data removed]",
      "text/plain": [
       "<Figure size 432x288 with 1 Axes>"
      ]
     },
     "metadata": {
      "needs_background": "light"
     },
     "output_type": "display_data"
    },
    {
     "name": "stdout",
     "output_type": "stream",
     "text": [
      "Last cost:  2.309202642271706\n"
     ]
    }
   ],
   "source": [
    "for param, mat in params.items():\n",
    "    if param.startswith('W'):\n",
    "        print(f\"{param}.shape = {mat.shape}\")\n",
    "        \n",
    "import matplotlib.pyplot as plt\n",
    "plt.title(\"Costs\")\n",
    "plt.xlabel(\"Costs\")\n",
    "plt.ylabel(\"Costs\")\n",
    "plt.plot(costs)\n",
    "plt.show()\n",
    "\n",
    "print(\"Last cost: \", costs[-1])"
   ]
  }
 ],
 "metadata": {
  "kernelspec": {
   "display_name": "Python 3",
   "language": "python",
   "name": "python3"
  },
  "language_info": {
   "codemirror_mode": {
    "name": "ipython",
    "version": 3
   },
   "file_extension": ".py",
   "mimetype": "text/x-python",
   "name": "python",
   "nbconvert_exporter": "python",
   "pygments_lexer": "ipython3",
   "version": "3.6.7"
  }
 },
 "nbformat": 4,
 "nbformat_minor": 2
}
