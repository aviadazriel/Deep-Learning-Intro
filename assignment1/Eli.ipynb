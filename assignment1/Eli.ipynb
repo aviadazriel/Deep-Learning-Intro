{
 "cells": [
  {
   "cell_type": "code",
   "execution_count": 45,
   "metadata": {},
   "outputs": [
    {
     "name": "stdout",
     "output_type": "stream",
     "text": [
      "The autoreload extension is already loaded. To reload it, use:\n",
      "  %reload_ext autoreload\n"
     ]
    }
   ],
   "source": [
    "import numpy as np\n",
    "from keras.datasets import mnist\n",
    "from sklearn.model_selection import train_test_split\n",
    "from fc_net import *\n",
    "from sklearn.preprocessing import OneHotEncoder, StandardScaler\n",
    "\n",
    "%load_ext autoreload\n",
    "%autoreload 2\n",
    "%matplotlib inline"
   ]
  },
  {
   "cell_type": "code",
   "execution_count": 46,
   "metadata": {},
   "outputs": [],
   "source": [
    "# load data set\n",
    "np.random.seed(42)\n",
    "(X_train, y_train), (X_test, y_test) = mnist.load_data()\n",
    "X_train, X_val, y_train, y_val = train_test_split(X_train, y_train, \n",
    "                                                  test_size=0.2,\n",
    "                                                  stratify=y_train, random_state=42)"
   ]
  },
  {
   "cell_type": "code",
   "execution_count": 47,
   "metadata": {},
   "outputs": [
    {
     "name": "stdout",
     "output_type": "stream",
     "text": [
      "x_train.shape = (48000, 28, 28)\n",
      "y_train.shape = (48000,)\n",
      "\n",
      "x_test.shape = (10000, 28, 28)\n",
      "y_test.shape = (10000,)\n",
      "\n",
      "x_val.shape = (12000, 28, 28)\n",
      "y_val.shape = (12000,)\n",
      "\n",
      "classes =  [0, 1, 2, 3, 4, 5, 6, 7, 8, 9]\n"
     ]
    }
   ],
   "source": [
    "### print shapes\n",
    "print(f\"x_train.shape = {X_train.shape}\")\n",
    "print(f\"y_train.shape = {y_train.shape}\\n\")\n",
    "print(f\"x_test.shape = {X_test.shape}\")\n",
    "print(f\"y_test.shape = {y_test.shape}\\n\")\n",
    "print(f\"x_val.shape = {X_val.shape}\")\n",
    "print(f\"y_val.shape = {y_val.shape}\\n\")\n",
    "\n",
    "### print claess\n",
    "print(\"classes = \", list(np.unique(y_train)))"
   ]
  },
  {
   "cell_type": "code",
   "execution_count": 48,
   "metadata": {},
   "outputs": [
    {
     "name": "stdout",
     "output_type": "stream",
     "text": [
      "x_train.shape = (48000, 784)\n",
      "y_train_encoded.shape = (48000, 10)\n",
      "\n",
      "x_test.shape = (10000, 784)\n",
      "y_test_encoded.shape = (10000, 10)\n",
      "\n",
      "x_val.shape = (12000, 784)\n",
      "y_val_encoded.shape = (12000, 10)\n",
      "\n"
     ]
    }
   ],
   "source": [
    "def one_hot_y(y):\n",
    "    ohe = OneHotEncoder(categories=[range(10)], sparse=False)\n",
    "    return ohe.fit_transform(y.reshape(-1,1))\n",
    "\n",
    "def assert_one_hot(y, y_ohe):\n",
    "    for label, encoded_label in zip(y, y_ohe):\n",
    "        assert label == np.flatnonzero(encoded_label)[0]\n",
    "        \n",
    "y_train_encoded, y_test_encoded, y_val_encoded,  = one_hot_y(y_train), one_hot_y(y_test), one_hot_y(y_val)\n",
    "assert_one_hot(y_train, y_train_encoded)\n",
    "assert_one_hot(y_test, y_test_encoded)\n",
    "assert_one_hot(y_val, y_val_encoded)\n",
    "\n",
    "# reshaping Xs\n",
    "X_train = X_train.reshape(-1, 784)\n",
    "X_test = X_test.reshape(-1, 784)\n",
    "X_val = X_val.reshape(-1, 784)\n",
    "\n",
    "print(f\"x_train.shape = {X_train.shape}\")\n",
    "print(f\"y_train_encoded.shape = {y_train_encoded.shape}\\n\")\n",
    "print(f\"x_test.shape = {X_test.shape}\")\n",
    "print(f\"y_test_encoded.shape = {y_test_encoded.shape}\\n\")\n",
    "print(f\"x_val.shape = {X_val.shape}\")\n",
    "print(f\"y_val_encoded.shape = {y_val_encoded.shape}\\n\")"
   ]
  },
  {
   "cell_type": "code",
   "execution_count": null,
   "metadata": {},
   "outputs": [],
   "source": [
    "## for testing\n",
    "# X, y = next(next_batch(X_train, y_test_encoded, 32))\n",
    "# print(f\"X.shape = {X.shape}\")\n",
    "# print(f\"y.shape = {y.shape}\\n\")"
   ]
  },
  {
   "cell_type": "code",
   "execution_count": null,
   "metadata": {},
   "outputs": [],
   "source": []
  },
  {
   "cell_type": "code",
   "execution_count": null,
   "metadata": {},
   "outputs": [
    {
     "name": "stderr",
     "output_type": "stream",
     "text": [
      "c:\\users\\galb\\appdata\\local\\programs\\python\\python37\\lib\\site-packages\\sklearn\\utils\\validation.py:595: DataConversionWarning: Data with input dtype uint8 was converted to float64 by StandardScaler.\n",
      "  warnings.warn(msg, DataConversionWarning)\n",
      "c:\\users\\galb\\appdata\\local\\programs\\python\\python37\\lib\\site-packages\\sklearn\\utils\\validation.py:595: DataConversionWarning: Data with input dtype uint8 was converted to float64 by StandardScaler.\n",
      "  warnings.warn(msg, DataConversionWarning)\n",
      "c:\\users\\galb\\appdata\\local\\programs\\python\\python37\\lib\\site-packages\\sklearn\\utils\\validation.py:595: DataConversionWarning: Data with input dtype uint8 was converted to float64 by StandardScaler.\n",
      "  warnings.warn(msg, DataConversionWarning)\n",
      "c:\\Msc\\DeepLearning\\Deep-Learning-Intro\\assignment1\\layers.py:10: RuntimeWarning: invalid value encountered in true_divide\n",
      "  return e_Z / np.sum(e_Z, axis=1, keepdims=True), activiation_cache # sum row-wise\n"
     ]
    }
   ],
   "source": [
    "scaler = StandardScaler()\n",
    "X_train = scaler.fit_transform(X_train)\n",
    "X_val = scaler.transform(X_val)\n",
    "params, costs, acc = L_layer_model(X_train, y_train_encoded, x_val=X_val, y_val=y_val_encoded, use_batchnorm=False,\n",
    "                              layers_dims=[20,7,5,10],\n",
    "                              learning_rate=0.009,\n",
    "                              num_iterations=100,\n",
    "                              batch_size=64)"
   ]
  },
  {
   "cell_type": "code",
   "execution_count": null,
   "metadata": {},
   "outputs": [],
   "source": [
    "for param, mat in params.items():\n",
    "    if param.startswith('W'):\n",
    "        print(f\"{param}.shape = {mat.shape}\")\n",
    "        \n",
    "import matplotlib.pyplot as plt\n",
    "plt.title(\"Costs\")\n",
    "plt.xlabel(\"steps (in 100 train steps)\")\n",
    "plt.ylabel(\"Costs\")\n",
    "plt.plot(costs)\n",
    "plt.show()\n",
    "\n",
    "print(\"Last cost: \", costs[-1])"
   ]
  },
  {
   "cell_type": "code",
   "execution_count": null,
   "metadata": {},
   "outputs": [],
   "source": [
    "import matplotlib.pyplot as plt\n",
    "plt.title(\"Accuracy\")\n",
    "plt.xlabel(\"steps (in 100 train steps\")\n",
    "plt.ylabel(\"Accuracy\")\n",
    "plt.plot(acc)\n",
    "plt.show()\n",
    "\n",
    "print(\"Last accuracy: \", acc[-1])"
   ]
  },
  {
   "cell_type": "code",
   "execution_count": null,
   "metadata": {},
   "outputs": [],
   "source": []
  }
 ],
 "metadata": {
  "kernelspec": {
   "display_name": "Python 3",
   "language": "python",
   "name": "python3"
  },
  "language_info": {
   "codemirror_mode": {
    "name": "ipython",
    "version": 3
   },
   "file_extension": ".py",
   "mimetype": "text/x-python",
   "name": "python",
   "nbconvert_exporter": "python",
   "pygments_lexer": "ipython3",
   "version": "3.7.0"
  }
 },
 "nbformat": 4,
 "nbformat_minor": 2
}
