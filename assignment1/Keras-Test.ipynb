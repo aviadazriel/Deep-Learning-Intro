{
 "cells": [
  {
   "cell_type": "code",
   "execution_count": 1,
   "metadata": {},
   "outputs": [
    {
     "name": "stderr",
     "output_type": "stream",
     "text": [
      "Using TensorFlow backend.\n"
     ]
    },
    {
     "name": "stdout",
     "output_type": "stream",
     "text": [
      "Training label shape:  (60000,)\n",
      "First 5 training labels:  [5 0 4 1 9]\n"
     ]
    },
    {
     "name": "stderr",
     "output_type": "stream",
     "text": [
      "c:\\users\\galb\\appdata\\local\\programs\\python\\python37\\lib\\site-packages\\sklearn\\utils\\validation.py:595: DataConversionWarning: Data with input dtype uint8 was converted to float64 by StandardScaler.\n",
      "  warnings.warn(msg, DataConversionWarning)\n"
     ]
    },
    {
     "name": "stdout",
     "output_type": "stream",
     "text": [
      "First 5 training lables as one-hot encoded vectors:\n",
      " [[0. 0. 0. 0. 0. 1. 0. 0. 0. 0.]\n",
      " [1. 0. 0. 0. 0. 0. 0. 0. 0. 0.]\n",
      " [0. 0. 0. 0. 1. 0. 0. 0. 0. 0.]\n",
      " [0. 1. 0. 0. 0. 0. 0. 0. 0. 0.]\n",
      " [0. 0. 0. 0. 0. 0. 0. 0. 0. 1.]]\n"
     ]
    },
    {
     "name": "stderr",
     "output_type": "stream",
     "text": [
      "c:\\users\\galb\\appdata\\local\\programs\\python\\python37\\lib\\site-packages\\sklearn\\utils\\validation.py:595: DataConversionWarning: Data with input dtype uint8 was converted to float64 by StandardScaler.\n",
      "  warnings.warn(msg, DataConversionWarning)\n"
     ]
    }
   ],
   "source": [
    "# based on https://medium.com/tebs-lab/how-to-classify-mnist-digits-with-different-neural-network-architectures-39c75a0f03e3\n",
    "import keras\n",
    "from keras.datasets import mnist\n",
    "import matplotlib.pyplot as plt\n",
    "from sklearn.preprocessing import StandardScaler\n",
    "\n",
    "# Setup train and test splits\n",
    "(x_train, y_train), (x_test, y_test) = mnist.load_data()\n",
    "print(\"Training label shape: \", y_train.shape) \n",
    "print(\"First 5 training labels: \", y_train[:5]) \n",
    "\n",
    "image_vector_size = 28*28\n",
    "x_train = x_train.reshape(x_train.shape[0], image_vector_size)\n",
    "x_test = x_test.reshape(x_test.shape[0], image_vector_size)\n",
    "\n",
    "scaler = StandardScaler()\n",
    "x_train = scaler.fit_transform(x_train)\n",
    "\n",
    "num_classes = 10\n",
    "y_train = keras.utils.to_categorical(y_train, num_classes)\n",
    "y_test = keras.utils.to_categorical(y_test, num_classes)\n",
    "print(\"First 5 training lables as one-hot encoded vectors:\\n\", y_train[:5])\n"
   ]
  },
  {
   "cell_type": "code",
   "execution_count": 14,
   "metadata": {},
   "outputs": [
    {
     "name": "stdout",
     "output_type": "stream",
     "text": [
      "_________________________________________________________________\n",
      "Layer (type)                 Output Shape              Param #   \n",
      "=================================================================\n",
      "dense_17 (Dense)             (None, 20)                15700     \n",
      "_________________________________________________________________\n",
      "dense_18 (Dense)             (None, 7)                 147       \n",
      "_________________________________________________________________\n",
      "dense_19 (Dense)             (None, 5)                 40        \n",
      "_________________________________________________________________\n",
      "dense_20 (Dense)             (None, 10)                60        \n",
      "=================================================================\n",
      "Total params: 15,947\n",
      "Trainable params: 15,947\n",
      "Non-trainable params: 0\n",
      "_________________________________________________________________\n"
     ]
    }
   ],
   "source": [
    "from keras.layers import Dense, Dropout # Dense layers are \"fully connected\" layers\n",
    "from keras.models import Sequential # Documentation: https://keras.io/models/sequential/\n",
    "import numpy as np\n",
    "\n",
    "image_size = 784 # 28*28\n",
    "num_classes = 10 # ten unique digits\n",
    "layers_dims=[20,7,5,10]\n",
    "p = 0.9 # for dropout\n",
    "\n",
    "model = Sequential([\n",
    "    Dense(units=20, input_shape=(image_size,), activation='relu', weights=[np.random.randn(image_size, 20)*np.sqrt(2/image_size), np.zeros(20)]),\n",
    "    # Dropout(p),\n",
    "    Dense(units=7, activation='relu', weights=[np.random.randn(20, 7)*np.sqrt(2/20), np.zeros(7)]),\n",
    "     #Dropout(p),\n",
    "    Dense(units=5, activation='relu', weights=[np.random.randn(7, 5)*np.sqrt(2/7), np.zeros(5)]),\n",
    "     #Dropout(p),\n",
    "    Dense(units=10, activation='softmax', weights=[np.random.randn(5, 10)*np.sqrt(1/5), np.zeros(10)]),\n",
    "])\n",
    "model.summary()"
   ]
  },
  {
   "cell_type": "code",
   "execution_count": 15,
   "metadata": {},
   "outputs": [],
   "source": [
    "def evaluate(model, batch_size=128, epochs=5, lr=0.009):\n",
    "    model.summary()\n",
    "    model.compile(optimizer=keras.optimizers.SGD(lr=lr), loss='categorical_crossentropy', metrics=['accuracy'])\n",
    "    history = model.fit(x_train, y_train, batch_size=batch_size, epochs=epochs, validation_split=.2, verbose=True)\n",
    "    loss, accuracy  = model.evaluate(x_test, y_test, verbose=False)\n",
    "\n",
    "    fig, axes = plt.subplots(1, 2)\n",
    "    fig.set_figheight(7)\n",
    "    fig.set_figwidth(14)\n",
    "\n",
    "    # plot accuracy \n",
    "    axes[0].plot(history.history['acc'])\n",
    "    axes[0].plot(history.history['val_acc'])\n",
    "    axes[0].set_title('model accuracy')\n",
    "    axes[0].set_ylabel('accuracy')\n",
    "    axes[0].set_xlabel('epoch')\n",
    "    axes[0].legend(['training', 'validation'], loc='best')\n",
    "\n",
    "    # plot loss\n",
    "    axes[1].plot(history.history['loss'])\n",
    "    axes[1].plot(history.history['val_loss'])\n",
    "    axes[1].set_title('model loss')\n",
    "    axes[1].set_ylabel('accuracy')\n",
    "    axes[1].set_xlabel('epoch')\n",
    "    axes[1].legend(['training', 'validation'], loc='best')\n",
    "\n",
    "\n",
    "    print()\n",
    "    print(f'Test loss: {loss:.3}')\n",
    "    print(f'Test accuracy: {accuracy:.3}')"
   ]
  },
  {
   "cell_type": "code",
   "execution_count": 16,
   "metadata": {
    "scrolled": false
   },
   "outputs": [
    {
     "name": "stdout",
     "output_type": "stream",
     "text": [
      "_________________________________________________________________\n",
      "Layer (type)                 Output Shape              Param #   \n",
      "=================================================================\n",
      "dense_17 (Dense)             (None, 20)                15700     \n",
      "_________________________________________________________________\n",
      "dense_18 (Dense)             (None, 7)                 147       \n",
      "_________________________________________________________________\n",
      "dense_19 (Dense)             (None, 5)                 40        \n",
      "_________________________________________________________________\n",
      "dense_20 (Dense)             (None, 10)                60        \n",
      "=================================================================\n",
      "Total params: 15,947\n",
      "Trainable params: 15,947\n",
      "Non-trainable params: 0\n",
      "_________________________________________________________________\n",
      "Train on 48000 samples, validate on 12000 samples\n",
      "Epoch 1/40\n",
      "48000/48000 [==============================] - 3s 69us/step - loss: 1.6136 - acc: 0.4211 - val_loss: 1.1884 - val_acc: 0.5722\n",
      "Epoch 2/40\n",
      "48000/48000 [==============================] - 3s 57us/step - loss: 1.0127 - acc: 0.6661 - val_loss: 0.8830 - val_acc: 0.7147\n",
      "Epoch 3/40\n",
      "48000/48000 [==============================] - 3s 61us/step - loss: 0.7485 - acc: 0.7988 - val_loss: 0.6087 - val_acc: 0.8483\n",
      "Epoch 4/40\n",
      "48000/48000 [==============================] - 3s 60us/step - loss: 0.5476 - acc: 0.8621 - val_loss: 0.4813 - val_acc: 0.8804\n",
      "Epoch 5/40\n",
      "48000/48000 [==============================] - 3s 54us/step - loss: 0.4426 - acc: 0.8875 - val_loss: 0.4069 - val_acc: 0.8932\n",
      "Epoch 6/40\n",
      "48000/48000 [==============================] - 3s 54us/step - loss: 0.3724 - acc: 0.9004 - val_loss: 0.3585 - val_acc: 0.9038\n",
      "Epoch 7/40\n",
      "48000/48000 [==============================] - 3s 59us/step - loss: 0.3282 - acc: 0.9101 - val_loss: 0.3348 - val_acc: 0.9117\n",
      "Epoch 8/40\n",
      "48000/48000 [==============================] - 3s 56us/step - loss: 0.2980 - acc: 0.9185 - val_loss: 0.3147 - val_acc: 0.9143\n",
      "Epoch 9/40\n",
      "48000/48000 [==============================] - 2s 51us/step - loss: 0.2755 - acc: 0.9240 - val_loss: 0.2992 - val_acc: 0.9195\n",
      "Epoch 10/40\n",
      "48000/48000 [==============================] - 3s 53us/step - loss: 0.2573 - acc: 0.9284 - val_loss: 0.2885 - val_acc: 0.9215\n",
      "Epoch 11/40\n",
      "48000/48000 [==============================] - 2s 52us/step - loss: 0.2415 - acc: 0.9322 - val_loss: 0.2837 - val_acc: 0.9256\n",
      "Epoch 12/40\n",
      "48000/48000 [==============================] - 2s 52us/step - loss: 0.2289 - acc: 0.9354 - val_loss: 0.2708 - val_acc: 0.9288\n",
      "Epoch 13/40\n",
      "48000/48000 [==============================] - 3s 52us/step - loss: 0.2175 - acc: 0.9387 - val_loss: 0.2641 - val_acc: 0.9327\n",
      "Epoch 14/40\n",
      "48000/48000 [==============================] - 2s 51us/step - loss: 0.2077 - acc: 0.9416 - val_loss: 0.2621 - val_acc: 0.9298\n",
      "Epoch 15/40\n",
      "48000/48000 [==============================] - 2s 51us/step - loss: 0.1992 - acc: 0.9439 - val_loss: 0.2558 - val_acc: 0.9326\n",
      "Epoch 16/40\n",
      "48000/48000 [==============================] - 3s 52us/step - loss: 0.1913 - acc: 0.9459 - val_loss: 0.2549 - val_acc: 0.9320\n",
      "Epoch 17/40\n",
      "48000/48000 [==============================] - 3s 59us/step - loss: 0.1851 - acc: 0.9480 - val_loss: 0.2487 - val_acc: 0.9346\n",
      "Epoch 18/40\n",
      "48000/48000 [==============================] - 3s 59us/step - loss: 0.1784 - acc: 0.9498 - val_loss: 0.2511 - val_acc: 0.9339\n",
      "Epoch 19/40\n",
      "48000/48000 [==============================] - 3s 60us/step - loss: 0.1730 - acc: 0.9510 - val_loss: 0.2452 - val_acc: 0.9364\n",
      "Epoch 20/40\n",
      "48000/48000 [==============================] - 3s 61us/step - loss: 0.1675 - acc: 0.9525 - val_loss: 0.2408 - val_acc: 0.9382\n",
      "Epoch 21/40\n",
      "48000/48000 [==============================] - 3s 65us/step - loss: 0.1623 - acc: 0.9540 - val_loss: 0.2423 - val_acc: 0.9386\n",
      "Epoch 22/40\n",
      "48000/48000 [==============================] - 3s 73us/step - loss: 0.1580 - acc: 0.9554 - val_loss: 0.2416 - val_acc: 0.9383\n",
      "Epoch 23/40\n",
      "48000/48000 [==============================] - 3s 71us/step - loss: 0.1544 - acc: 0.9561 - val_loss: 0.2387 - val_acc: 0.9393\n",
      "Epoch 24/40\n",
      "48000/48000 [==============================] - 3s 69us/step - loss: 0.1502 - acc: 0.9572 - val_loss: 0.2375 - val_acc: 0.9398\n",
      "Epoch 25/40\n",
      "48000/48000 [==============================] - 3s 56us/step - loss: 0.1457 - acc: 0.9581 - val_loss: 0.2384 - val_acc: 0.9402\n",
      "Epoch 26/40\n",
      "48000/48000 [==============================] - 2s 50us/step - loss: 0.1421 - acc: 0.9595 - val_loss: 0.2395 - val_acc: 0.9407\n",
      "Epoch 27/40\n",
      "48000/48000 [==============================] - 2s 48us/step - loss: 0.1390 - acc: 0.9609 - val_loss: 0.2396 - val_acc: 0.9405\n",
      "Epoch 28/40\n",
      "48000/48000 [==============================] - 2s 51us/step - loss: 0.1358 - acc: 0.9614 - val_loss: 0.2398 - val_acc: 0.9418\n",
      "Epoch 29/40\n",
      "48000/48000 [==============================] - 2s 49us/step - loss: 0.1326 - acc: 0.9623 - val_loss: 0.2386 - val_acc: 0.9408\n",
      "Epoch 30/40\n",
      "48000/48000 [==============================] - 2s 50us/step - loss: 0.1300 - acc: 0.9632 - val_loss: 0.2387 - val_acc: 0.9422\n",
      "Epoch 31/40\n",
      "48000/48000 [==============================] - 2s 49us/step - loss: 0.1269 - acc: 0.9640 - val_loss: 0.2404 - val_acc: 0.9421\n",
      "Epoch 32/40\n",
      "48000/48000 [==============================] - 2s 49us/step - loss: 0.1244 - acc: 0.9644 - val_loss: 0.2371 - val_acc: 0.9424\n",
      "Epoch 33/40\n",
      "48000/48000 [==============================] - 2s 49us/step - loss: 0.1224 - acc: 0.9655 - val_loss: 0.2391 - val_acc: 0.9432\n",
      "Epoch 34/40\n",
      "48000/48000 [==============================] - 2s 49us/step - loss: 0.1196 - acc: 0.9666 - val_loss: 0.2378 - val_acc: 0.9437\n",
      "Epoch 35/40\n",
      "48000/48000 [==============================] - 2s 50us/step - loss: 0.1174 - acc: 0.9667 - val_loss: 0.2428 - val_acc: 0.9430\n",
      "Epoch 36/40\n",
      "48000/48000 [==============================] - 2s 49us/step - loss: 0.1150 - acc: 0.9674 - val_loss: 0.2386 - val_acc: 0.9433\n",
      "Epoch 37/40\n",
      "48000/48000 [==============================] - 2s 49us/step - loss: 0.1127 - acc: 0.9682 - val_loss: 0.2412 - val_acc: 0.9432\n",
      "Epoch 38/40\n",
      "48000/48000 [==============================] - 2s 49us/step - loss: 0.1106 - acc: 0.9694 - val_loss: 0.2418 - val_acc: 0.9427\n",
      "Epoch 39/40\n",
      "48000/48000 [==============================] - 2s 49us/step - loss: 0.1081 - acc: 0.9693 - val_loss: 0.2411 - val_acc: 0.9438\n",
      "Epoch 40/40\n",
      "48000/48000 [==============================] - 2s 48us/step - loss: 0.1068 - acc: 0.9700 - val_loss: 0.2414 - val_acc: 0.9425\n",
      "\n",
      "Test loss: 1.9\n",
      "Test accuracy: 0.879\n"
     ]
    },
    {
     "data": {
      "image/png": "[encoded data removed]",
      "text/plain": [
       "<Figure size 1008x504 with 2 Axes>"
      ]
     },
     "metadata": {
      "needs_background": "light"
     },
     "output_type": "display_data"
    }
   ],
   "source": [
    "evaluate(model, batch_size=64, epochs=40)"
   ]
  },
  {
   "cell_type": "code",
   "execution_count": null,
   "metadata": {},
   "outputs": [],
   "source": []
  },
  {
   "cell_type": "code",
   "execution_count": null,
   "metadata": {},
   "outputs": [],
   "source": []
  }
 ],
 "metadata": {
  "kernelspec": {
   "display_name": "Python 3",
   "language": "python",
   "name": "python3"
  },
  "language_info": {
   "codemirror_mode": {
    "name": "ipython",
    "version": 3
   },
   "file_extension": ".py",
   "mimetype": "text/x-python",
   "name": "python",
   "nbconvert_exporter": "python",
   "pygments_lexer": "ipython3",
   "version": "3.6.7"
  }
 },
 "nbformat": 4,
 "nbformat_minor": 2
}
