{
 "cells": [
  {
   "cell_type": "code",
   "execution_count": 41,
   "metadata": {},
   "outputs": [],
   "source": [
    "import numpy as np\n",
    "from keras.datasets import mnist\n",
    "from sklearn.model_selection import train_test_split\n",
    "from fc_net import *\n",
    "\n",
    "np.random.seed(42)\n",
    "(x_train, y_train), (x_test, y_test) = mnist.load_data()\n",
    "x_train, x_val, y_train, y_val = train_test_split(x_train, y_train, \n",
    "                                                  test_size=0.2,\n",
    "                                                  stratify=y_train)"
   ]
  },
  {
   "cell_type": "code",
   "execution_count": 27,
   "metadata": {},
   "outputs": [
    {
     "name": "stdout",
     "output_type": "stream",
     "text": [
      "x_train.shape = (48000, 28, 28)\n",
      "y_train.shape = (48000,)\n",
      "\n",
      "x_test.shape = (10000, 28, 28)\n",
      "y_test.shape = (10000,)\n",
      "\n",
      "x_val.shape = (12000, 28, 28)\n",
      "y_val.shape = (12000,)\n",
      "\n",
      "claess =  [0, 1, 2, 3, 4, 5, 6, 7, 8, 9]\n"
     ]
    }
   ],
   "source": [
    "### print shapes\n",
    "print(f\"x_train.shape = {x_train.shape}\")\n",
    "print(f\"y_train.shape = {y_train.shape}\\n\")\n",
    "print(f\"x_test.shape = {x_test.shape}\")\n",
    "print(f\"y_test.shape = {y_test.shape}\\n\")\n",
    "print(f\"x_val.shape = {x_val.shape}\")\n",
    "print(f\"y_val.shape = {y_val.shape}\\n\")\n",
    "\n",
    "### print claess\n",
    "print(\"claess = \", list(np.unique(y_train)))"
   ]
  },
  {
   "cell_type": "code",
   "execution_count": 42,
   "metadata": {},
   "outputs": [
    {
     "name": "stdout",
     "output_type": "stream",
     "text": [
      "W1.shape = (784, 20)\n",
      "W2.shape = (20, 7)\n",
      "W3.shape = (7, 5)\n",
      "W4.shape = (5, 10)\n",
      "W5.shape = (10, 10)\n"
     ]
    }
   ],
   "source": [
    "hidden_layers_dims = [20,7,5,10]\n",
    "# TODO GAL: FullyConnectedNet ctor will be changed to L_layer_model\n",
    "fcnn = FullyConnectedNet(layer_dims=hidden_layers_dims, \n",
    "                         input_dim=28*28, \n",
    "                         num_classes=10,\n",
    "                         dropout=1, # no droput\n",
    "                         normalization=False) # no batch-norm\n",
    "                        # pass learning_rate=0.009\n",
    "\n",
    "# see this question https://moodle2.bgu.ac.il/moodle/mod/forum/discuss.php?d=317142\n",
    "\n",
    "for param, mat in fcnn.params.items():\n",
    "    if param.startswith('W'):\n",
    "        print(f\"{param}.shape = {mat.shape}\")\n",
    "    \n"
   ]
  },
  {
   "cell_type": "code",
   "execution_count": 43,
   "metadata": {},
   "outputs": [],
   "source": [
    "batch_size = 256 # TODO: which batch_size should be? ask Gilad?\n",
    "epoches = 100 # from the assignment: \"for 100 training steps\"\n",
    "n_samples = x_train.shape[0]\n",
    "iters_per_epoch = max(n_samples // batch_size, 1)\n"
   ]
  },
  {
   "cell_type": "code",
   "execution_count": null,
   "metadata": {},
   "outputs": [],
   "source": [
    "\n",
    "for epoch_idx in range(epoches):\n",
    "    params, costs = L_layer_model()\n",
    "    # todo eli: complete after gal complete his PR\n"
   ]
  },
  {
   "cell_type": "markdown",
   "metadata": {},
   "source": [
    "# TODO\n",
    "1. add one graph of train & val accuracy (accuracy increasing) \n",
    "2. add one graph of train & val loss (loss decreasing)"
   ]
  },
  {
   "cell_type": "code",
   "execution_count": null,
   "metadata": {},
   "outputs": [],
   "source": []
  }
 ],
 "metadata": {
  "kernelspec": {
   "display_name": "Python 3",
   "language": "python",
   "name": "python3"
  },
  "language_info": {
   "codemirror_mode": {
    "name": "ipython",
    "version": 3
   },
   "file_extension": ".py",
   "mimetype": "text/x-python",
   "name": "python",
   "nbconvert_exporter": "python",
   "pygments_lexer": "ipython3",
   "version": "3.6.7"
  }
 },
 "nbformat": 4,
 "nbformat_minor": 2
}
