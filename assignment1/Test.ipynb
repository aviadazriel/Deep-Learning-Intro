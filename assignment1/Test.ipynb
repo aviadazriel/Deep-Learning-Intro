{
 "cells": [
  {
   "cell_type": "code",
   "execution_count": 1,
   "metadata": {},
   "outputs": [
    {
     "name": "stderr",
     "output_type": "stream",
     "text": [
      "Using TensorFlow backend.\n"
     ]
    },
    {
     "name": "stdout",
     "output_type": "stream",
     "text": [
      "Training label shape:  (60000,)\n",
      "First 5 training labels:  [5 0 4 1 9]\n"
     ]
    },
    {
     "name": "stderr",
     "output_type": "stream",
     "text": [
      "c:\\users\\galb\\appdata\\local\\programs\\python\\python37\\lib\\site-packages\\sklearn\\utils\\validation.py:595: DataConversionWarning: Data with input dtype uint8 was converted to float64 by StandardScaler.\n",
      "  warnings.warn(msg, DataConversionWarning)\n"
     ]
    },
    {
     "name": "stdout",
     "output_type": "stream",
     "text": [
      "First 5 training lables as one-hot encoded vectors:\n",
      " [[0. 0. 0. 0. 0. 1. 0. 0. 0. 0.]\n",
      " [1. 0. 0. 0. 0. 0. 0. 0. 0. 0.]\n",
      " [0. 0. 0. 0. 1. 0. 0. 0. 0. 0.]\n",
      " [0. 1. 0. 0. 0. 0. 0. 0. 0. 0.]\n",
      " [0. 0. 0. 0. 0. 0. 0. 0. 0. 1.]]\n"
     ]
    },
    {
     "name": "stderr",
     "output_type": "stream",
     "text": [
      "c:\\users\\galb\\appdata\\local\\programs\\python\\python37\\lib\\site-packages\\sklearn\\utils\\validation.py:595: DataConversionWarning: Data with input dtype uint8 was converted to float64 by StandardScaler.\n",
      "  warnings.warn(msg, DataConversionWarning)\n"
     ]
    }
   ],
   "source": [
    "# based on https://medium.com/tebs-lab/how-to-classify-mnist-digits-with-different-neural-network-architectures-39c75a0f03e3\n",
    "import keras\n",
    "from keras.datasets import mnist\n",
    "import matplotlib.pyplot as plt\n",
    "from sklearn.preprocessing import StandardScaler\n",
    "\n",
    "# Setup train and test splits\n",
    "(x_train, y_train), (x_test, y_test) = mnist.load_data()\n",
    "print(\"Training label shape: \", y_train.shape) \n",
    "print(\"First 5 training labels: \", y_train[:5]) \n",
    "\n",
    "image_vector_size = 28*28\n",
    "x_train = x_train.reshape(x_train.shape[0], image_vector_size)\n",
    "x_test = x_test.reshape(x_test.shape[0], image_vector_size)\n",
    "\n",
    "scaler = StandardScaler()\n",
    "x_train = scaler.fit_transform(x_train)\n",
    "\n",
    "num_classes = 10\n",
    "y_train = keras.utils.to_categorical(y_train, num_classes)\n",
    "y_test = keras.utils.to_categorical(y_test, num_classes)\n",
    "print(\"First 5 training lables as one-hot encoded vectors:\\n\", y_train[:5])\n"
   ]
  },
  {
   "cell_type": "code",
   "execution_count": 2,
   "metadata": {},
   "outputs": [
    {
     "name": "stdout",
     "output_type": "stream",
     "text": [
      "WARNING:tensorflow:From c:\\users\\galb\\appdata\\local\\programs\\python\\python37\\lib\\site-packages\\tensorflow\\python\\framework\\op_def_library.py:263: colocate_with (from tensorflow.python.framework.ops) is deprecated and will be removed in a future version.\n",
      "Instructions for updating:\n",
      "Colocations handled automatically by placer.\n",
      "_________________________________________________________________\n",
      "Layer (type)                 Output Shape              Param #   \n",
      "=================================================================\n",
      "dense_1 (Dense)              (None, 20)                15700     \n",
      "_________________________________________________________________\n",
      "dense_2 (Dense)              (None, 7)                 147       \n",
      "_________________________________________________________________\n",
      "dense_3 (Dense)              (None, 5)                 40        \n",
      "_________________________________________________________________\n",
      "dense_4 (Dense)              (None, 10)                60        \n",
      "=================================================================\n",
      "Total params: 15,947\n",
      "Trainable params: 15,947\n",
      "Non-trainable params: 0\n",
      "_________________________________________________________________\n"
     ]
    }
   ],
   "source": [
    "from keras.layers import Dense, Dropout # Dense layers are \"fully connected\" layers\n",
    "from keras.models import Sequential # Documentation: https://keras.io/models/sequential/\n",
    "import numpy as np\n",
    "\n",
    "image_size = 784 # 28*28\n",
    "num_classes = 10 # ten unique digits\n",
    "layers_dims=[20,7,5,10]\n",
    "p = 0.5 # for dropout\n",
    "\n",
    "model = Sequential([\n",
    "    Dense(units=20, input_shape=(image_size,), activation='relu', weights=[np.random.randn(image_size, 20)*np.sqrt(2/image_size), np.zeros(20)]),\n",
    "#     Dropout(p),\n",
    "    Dense(units=7, activation='relu', weights=[np.random.randn(20, 7)*np.sqrt(2/20), np.zeros(7)]),\n",
    "#     Dropout(p),\n",
    "    Dense(units=5, activation='relu', weights=[np.random.randn(7, 5)*np.sqrt(2/7), np.zeros(5)]),\n",
    "#     Dropout(p),\n",
    "    Dense(units=10, activation='softmax', weights=[np.random.randn(5, 10)*np.sqrt(1/5), np.zeros(10)]),\n",
    "])\n",
    "model.summary()"
   ]
  },
  {
   "cell_type": "code",
   "execution_count": 3,
   "metadata": {},
   "outputs": [],
   "source": [
    "def evaluate(model, batch_size=128, epochs=5, lr=0.009):\n",
    "    model.summary()\n",
    "    model.compile(optimizer=keras.optimizers.SGD(lr=lr), loss='categorical_crossentropy', metrics=['accuracy'])\n",
    "    history = model.fit(x_train, y_train, batch_size=batch_size, epochs=epochs, validation_split=.2, verbose=True)\n",
    "    loss, accuracy  = model.evaluate(x_test, y_test, verbose=False)\n",
    "\n",
    "    fig, axes = plt.subplots(1, 2)\n",
    "    fig.set_figheight(7)\n",
    "    fig.set_figwidth(14)\n",
    "\n",
    "    # plot accuracy \n",
    "    axes[0].plot(history.history['acc'])\n",
    "    axes[0].plot(history.history['val_acc'])\n",
    "    axes[0].set_title('model accuracy')\n",
    "    axes[0].set_ylabel('accuracy')\n",
    "    axes[0].set_xlabel('epoch')\n",
    "    axes[0].legend(['training', 'validation'], loc='best')\n",
    "\n",
    "    # plot loss\n",
    "    axes[1].plot(history.history['loss'])\n",
    "    axes[1].plot(history.history['val_loss'])\n",
    "    axes[1].set_title('model loss')\n",
    "    axes[1].set_ylabel('accuracy')\n",
    "    axes[1].set_xlabel('epoch')\n",
    "    axes[1].legend(['training', 'validation'], loc='best')\n",
    "\n",
    "\n",
    "    print()\n",
    "    print(f'Test loss: {loss:.3}')\n",
    "    print(f'Test accuracy: {accuracy:.3}')"
   ]
  },
  {
   "cell_type": "code",
   "execution_count": null,
   "metadata": {},
   "outputs": [
    {
     "name": "stdout",
     "output_type": "stream",
     "text": [
      "_________________________________________________________________\n",
      "Layer (type)                 Output Shape              Param #   \n",
      "=================================================================\n",
      "dense_1 (Dense)              (None, 20)                15700     \n",
      "_________________________________________________________________\n",
      "dense_2 (Dense)              (None, 7)                 147       \n",
      "_________________________________________________________________\n",
      "dense_3 (Dense)              (None, 5)                 40        \n",
      "_________________________________________________________________\n",
      "dense_4 (Dense)              (None, 10)                60        \n",
      "=================================================================\n",
      "Total params: 15,947\n",
      "Trainable params: 15,947\n",
      "Non-trainable params: 0\n",
      "_________________________________________________________________\n",
      "WARNING:tensorflow:From c:\\users\\galb\\appdata\\local\\programs\\python\\python37\\lib\\site-packages\\tensorflow\\python\\ops\\math_ops.py:3066: to_int32 (from tensorflow.python.ops.math_ops) is deprecated and will be removed in a future version.\n",
      "Instructions for updating:\n",
      "Use tf.cast instead.\n",
      "Train on 48000 samples, validate on 12000 samples\n",
      "Epoch 1/40\n",
      "48000/48000 [==============================] - 2s 41us/step - loss: 1.5211 - acc: 0.4780 - val_loss: 0.9629 - val_acc: 0.7117\n",
      "Epoch 2/40\n",
      "48000/48000 [==============================] - 2s 34us/step - loss: 0.7607 - acc: 0.7777 - val_loss: 0.5825 - val_acc: 0.8253\n",
      "Epoch 3/40\n",
      "48000/48000 [==============================] - 2s 33us/step - loss: 0.5427 - acc: 0.8445 - val_loss: 0.4757 - val_acc: 0.8620\n",
      "Epoch 4/40\n",
      "48000/48000 [==============================] - 2s 34us/step - loss: 0.4542 - acc: 0.8746 - val_loss: 0.4170 - val_acc: 0.8846\n",
      "Epoch 5/40\n",
      "48000/48000 [==============================] - 2s 35us/step - loss: 0.3931 - acc: 0.8939 - val_loss: 0.3712 - val_acc: 0.8986\n",
      "Epoch 6/40\n",
      "48000/48000 [==============================] - 2s 33us/step - loss: 0.3462 - acc: 0.9066 - val_loss: 0.3374 - val_acc: 0.9077\n",
      "Epoch 7/40\n",
      "48000/48000 [==============================] - 2s 32us/step - loss: 0.3108 - acc: 0.9168 - val_loss: 0.3160 - val_acc: 0.9120\n",
      "Epoch 8/40\n",
      "48000/48000 [==============================] - 2s 33us/step - loss: 0.2830 - acc: 0.9237 - val_loss: 0.2944 - val_acc: 0.9183\n",
      "Epoch 9/40\n",
      "48000/48000 [==============================] - 2s 31us/step - loss: 0.2608 - acc: 0.9295 - val_loss: 0.2826 - val_acc: 0.9223\n",
      "Epoch 10/40\n",
      "48000/48000 [==============================] - 2s 32us/step - loss: 0.2427 - acc: 0.9347 - val_loss: 0.2705 - val_acc: 0.9253\n",
      "Epoch 11/40\n",
      "48000/48000 [==============================] - 2s 33us/step - loss: 0.2282 - acc: 0.9381 - val_loss: 0.2609 - val_acc: 0.9270\n",
      "Epoch 12/40\n",
      "48000/48000 [==============================] - 2s 34us/step - loss: 0.2161 - acc: 0.9415 - val_loss: 0.2550 - val_acc: 0.9294\n",
      "Epoch 13/40\n",
      "48000/48000 [==============================] - 2s 32us/step - loss: 0.2061 - acc: 0.9439 - val_loss: 0.2470 - val_acc: 0.9314\n",
      "Epoch 14/40\n",
      "48000/48000 [==============================] - 2s 31us/step - loss: 0.1974 - acc: 0.9464 - val_loss: 0.2448 - val_acc: 0.9335\n",
      "Epoch 15/40\n",
      "48000/48000 [==============================] - 2s 34us/step - loss: 0.1899 - acc: 0.9485 - val_loss: 0.2431 - val_acc: 0.9335\n",
      "Epoch 16/40\n",
      "48000/48000 [==============================] - 2s 33us/step - loss: 0.1832 - acc: 0.9494 - val_loss: 0.2375 - val_acc: 0.9353\n",
      "Epoch 17/40\n",
      "48000/48000 [==============================] - 2s 33us/step - loss: 0.1771 - acc: 0.9521 - val_loss: 0.2385 - val_acc: 0.9358\n",
      "Epoch 18/40\n",
      "37760/48000 [======================>.......] - ETA: 0s - loss: 0.1714 - acc: 0.9533"
     ]
    }
   ],
   "source": [
    "evaluate(model, batch_size=64, epochs=40)"
   ]
  },
  {
   "cell_type": "code",
   "execution_count": null,
   "metadata": {},
   "outputs": [],
   "source": []
  }
 ],
 "metadata": {
  "kernelspec": {
   "display_name": "Python 3",
   "language": "python",
   "name": "python3"
  },
  "language_info": {
   "codemirror_mode": {
    "name": "ipython",
    "version": 3
   },
   "file_extension": ".py",
   "mimetype": "text/x-python",
   "name": "python",
   "nbconvert_exporter": "python",
   "pygments_lexer": "ipython3",
   "version": "3.7.0"
  }
 },
 "nbformat": 4,
 "nbformat_minor": 2
}
