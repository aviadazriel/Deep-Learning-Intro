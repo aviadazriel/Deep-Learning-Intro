{
 "cells": [
  {
   "cell_type": "markdown",
   "metadata": {},
   "source": [
    "# Notebook for section 3.2\n",
    "### TODO:\n",
    "1. constractive loss\n",
    "2. lr scheduling"
   ]
  },
  {
   "cell_type": "code",
   "execution_count": 1,
   "metadata": {},
   "outputs": [
    {
     "name": "stderr",
     "output_type": "stream",
     "text": [
      "Using TensorFlow backend.\n"
     ]
    },
    {
     "name": "stdout",
     "output_type": "stream",
     "text": [
      "Data already exist\n"
     ]
    }
   ],
   "source": [
    "%matplotlib inline\n",
    "import src.lfw_dataset as lfw\n",
    "from src.lfw_dataset import LFWDataLoader\n",
    "from src.siamese import Siamese\n",
    "\n",
    "# load the paths of the data sets\n",
    "same_train_paths, diff_train_paths, same_val_paths, diff_val_paths, same_test_paths, diff_test_paths = lfw.load_data()\n",
    "\n",
    "def try_train(siamese_net, epochs=400, epoch_shuffle=True, verbose=0):\n",
    "    \"\"\"\n",
    "    Try to train the siamese_net model. If success, return train history. Otherwise, return None.\n",
    "    \"\"\"\n",
    "    try:\n",
    "        print(\"Training...\")\n",
    "        history = siamese_net.train(same_train_paths, diff_train_paths, same_val_paths, diff_val_paths, epochs=epochs, epoch_shuffle=epoch_shuffle, verbose=verbose)\n",
    "        print(\"Training End\")\n",
    "        return history\n",
    "    except Exception as e:\n",
    "        print(f\"Got exception while training: {type(e).__name__}\")\n",
    "        return None"
   ]
  },
  {
   "cell_type": "markdown",
   "metadata": {},
   "source": [
    "## Hani Model (without modifications)"
   ]
  },
  {
   "cell_type": "code",
   "execution_count": 2,
   "metadata": {},
   "outputs": [
    {
     "name": "stdout",
     "output_type": "stream",
     "text": [
      "Hani Model:\n",
      "__________________________________________________________________________________________________\n",
      "Layer (type)                    Output Shape         Param #     Connected to                     \n",
      "==================================================================================================\n",
      "input_1 (InputLayer)            (None, 250, 250, 1)  0                                            \n",
      "__________________________________________________________________________________________________\n",
      "input_2 (InputLayer)            (None, 250, 250, 1)  0                                            \n",
      "__________________________________________________________________________________________________\n",
      "sequential_1 (Sequential)       (None, 40)           73099       input_1[0][0]                    \n",
      "                                                                 input_2[0][0]                    \n",
      "__________________________________________________________________________________________________\n",
      "lambda_1 (Lambda)               (None, 1)            0           sequential_1[1][0]               \n",
      "                                                                 sequential_1[2][0]               \n",
      "==================================================================================================\n",
      "Total params: 73,099\n",
      "Trainable params: 73,099\n",
      "Non-trainable params: 0\n",
      "__________________________________________________________________________________________________\n",
      "Training...\n",
      "Epoch 1/400\n",
      "55/55 [==============================] - 12s 215ms/step - loss: 1.5379 - acc: 0.5182 - val_loss: 1.5408 - val_acc: 0.5000\n",
      "Epoch 2/400\n",
      "55/55 [==============================] - 9s 162ms/step - loss: 1.4824 - acc: 0.5017 - val_loss: 1.6202 - val_acc: 0.5745\n",
      "Epoch 3/400\n",
      "55/55 [==============================] - 7s 128ms/step - loss: 1.4215 - acc: 0.4994 - val_loss: 1.4787 - val_acc: 0.5312\n",
      "Epoch 4/400\n",
      "55/55 [==============================] - 10s 182ms/step - loss: 1.3967 - acc: 0.4875 - val_loss: 1.4848 - val_acc: 0.5601\n",
      "Epoch 5/400\n",
      "55/55 [==============================] - 7s 135ms/step - loss: 1.4490 - acc: 0.4909 - val_loss: 1.4099 - val_acc: 0.5000\n",
      "Epoch 6/400\n",
      "55/55 [==============================] - 9s 162ms/step - loss: 1.3755 - acc: 0.4744 - val_loss: 1.5619 - val_acc: 0.5409\n",
      "Epoch 7/400\n",
      "55/55 [==============================] - 8s 144ms/step - loss: 1.3307 - acc: 0.4807 - val_loss: 1.5023 - val_acc: 0.5048\n",
      "Epoch 8/400\n",
      "55/55 [==============================] - 8s 143ms/step - loss: 1.4083 - acc: 0.4886 - val_loss: 1.4731 - val_acc: 0.5385\n",
      "Epoch 9/400\n",
      "55/55 [==============================] - 9s 166ms/step - loss: 1.4196 - acc: 0.4716 - val_loss: 1.4106 - val_acc: 0.4784\n",
      "Epoch 10/400\n",
      "55/55 [==============================] - 9s 161ms/step - loss: 1.4348 - acc: 0.4699 - val_loss: 1.4347 - val_acc: 0.4976\n",
      "Epoch 11/400\n",
      "55/55 [==============================] - 8s 137ms/step - loss: 1.4122 - acc: 0.4636 - val_loss: 1.6883 - val_acc: 0.5409\n",
      "Epoch 12/400\n",
      "55/55 [==============================] - 8s 148ms/step - loss: 1.4215 - acc: 0.4625 - val_loss: 1.4066 - val_acc: 0.5361\n",
      "Epoch 13/400\n",
      "55/55 [==============================] - 9s 156ms/step - loss: 1.3442 - acc: 0.4580 - val_loss: 1.4559 - val_acc: 0.5240\n",
      "Epoch 14/400\n",
      "55/55 [==============================] - 7s 123ms/step - loss: 1.2682 - acc: 0.4642 - val_loss: 1.3789 - val_acc: 0.5312\n",
      "Epoch 15/400\n",
      "55/55 [==============================] - 9s 165ms/step - loss: 1.2235 - acc: 0.4210 - val_loss: 1.4390 - val_acc: 0.4591\n",
      "Epoch 16/400\n",
      "55/55 [==============================] - 7s 130ms/step - loss: 1.2090 - acc: 0.4256 - val_loss: 1.4669 - val_acc: 0.4952\n",
      "Epoch 17/400\n",
      "55/55 [==============================] - 9s 160ms/step - loss: 1.1011 - acc: 0.4250 - val_loss: 1.3068 - val_acc: 0.4615\n",
      "Epoch 18/400\n",
      "55/55 [==============================] - 8s 137ms/step - loss: 1.0491 - acc: 0.3852 - val_loss: 1.4116 - val_acc: 0.4880\n",
      "Epoch 19/400\n",
      "55/55 [==============================] - 8s 143ms/step - loss: 1.0053 - acc: 0.3858 - val_loss: 1.4736 - val_acc: 0.4663\n",
      "Epoch 20/400\n",
      "55/55 [==============================] - 9s 159ms/step - loss: 0.8919 - acc: 0.3670 - val_loss: 1.4643 - val_acc: 0.4375\n",
      "Epoch 21/400\n",
      "55/55 [==============================] - 8s 139ms/step - loss: 0.8057 - acc: 0.3273 - val_loss: 1.5139 - val_acc: 0.4832\n",
      "Epoch 22/400\n",
      "55/55 [==============================] - 9s 169ms/step - loss: 0.7815 - acc: 0.3335 - val_loss: 1.6243 - val_acc: 0.4231\n",
      "Epoch 23/400\n",
      "55/55 [==============================] - 7s 125ms/step - loss: 0.6784 - acc: 0.2875 - val_loss: 1.6809 - val_acc: 0.3774\n",
      "Epoch 24/400\n",
      "55/55 [==============================] - 9s 170ms/step - loss: 0.6396 - acc: 0.2852 - val_loss: 1.5171 - val_acc: 0.4111\n",
      "Epoch 25/400\n",
      "55/55 [==============================] - 8s 138ms/step - loss: 0.5339 - acc: 0.2426 - val_loss: 1.6809 - val_acc: 0.4111\n",
      "Epoch 26/400\n",
      "55/55 [==============================] - 9s 162ms/step - loss: 0.5277 - acc: 0.2261 - val_loss: 1.7035 - val_acc: 0.4255\n",
      "Epoch 27/400\n",
      "55/55 [==============================] - 7s 136ms/step - loss: 0.4870 - acc: 0.2290 - val_loss: 1.6756 - val_acc: 0.4183\n",
      "Epoch 28/400\n",
      "55/55 [==============================] - 8s 139ms/step - loss: 0.4472 - acc: 0.1898 - val_loss: 1.7230 - val_acc: 0.4014\n",
      "Epoch 29/400\n",
      "55/55 [==============================] - 9s 155ms/step - loss: 0.4028 - acc: 0.1795 - val_loss: 1.7612 - val_acc: 0.3942\n",
      "Epoch 30/400\n",
      "55/55 [==============================] - 7s 129ms/step - loss: 0.3982 - acc: 0.1812 - val_loss: 1.6398 - val_acc: 0.4183\n",
      "Epoch 31/400\n",
      "55/55 [==============================] - 9s 158ms/step - loss: 0.3685 - acc: 0.1534 - val_loss: 1.6893 - val_acc: 0.4014\n",
      "Epoch 32/400\n",
      "55/55 [==============================] - 7s 127ms/step - loss: 0.3572 - acc: 0.1562 - val_loss: 1.7489 - val_acc: 0.4014\n",
      "Epoch 33/400\n",
      "55/55 [==============================] - 9s 159ms/step - loss: 0.3488 - acc: 0.1466 - val_loss: 1.6599 - val_acc: 0.3942\n",
      "Epoch 34/400\n",
      "55/55 [==============================] - 8s 139ms/step - loss: 0.3456 - acc: 0.1426 - val_loss: 1.6934 - val_acc: 0.4038\n",
      "Epoch 35/400\n",
      "55/55 [==============================] - 8s 140ms/step - loss: 0.3460 - acc: 0.1420 - val_loss: 1.6981 - val_acc: 0.4231\n",
      "Epoch 36/400\n",
      "55/55 [==============================] - 8s 151ms/step - loss: 0.3282 - acc: 0.1330 - val_loss: 1.6287 - val_acc: 0.4231\n",
      "Epoch 37/400\n",
      "55/55 [==============================] - 8s 142ms/step - loss: 0.3478 - acc: 0.1562 - val_loss: 1.6860 - val_acc: 0.3822\n",
      "Epoch 38/400\n",
      "55/55 [==============================] - 9s 160ms/step - loss: 0.3478 - acc: 0.1591 - val_loss: 1.6788 - val_acc: 0.4038\n",
      "Epoch 39/400\n",
      "55/55 [==============================] - 8s 138ms/step - loss: 0.3423 - acc: 0.1455 - val_loss: 1.6359 - val_acc: 0.4062\n",
      "Epoch 40/400\n",
      "55/55 [==============================] - 9s 166ms/step - loss: 0.3272 - acc: 0.1472 - val_loss: 1.6515 - val_acc: 0.4087\n",
      "Epoch 41/400\n",
      "55/55 [==============================] - 7s 126ms/step - loss: 0.3087 - acc: 0.1153 - val_loss: 1.6983 - val_acc: 0.4207\n",
      "Epoch 42/400\n",
      "55/55 [==============================] - 10s 177ms/step - loss: 0.3149 - acc: 0.1307 - val_loss: 1.6735 - val_acc: 0.4014\n",
      "Epoch 43/400\n",
      "37/55 [===================>..........] - ETA: 2s - loss: 0.3168 - acc: 0.1394"
     ]
    },
    {
     "ename": "KeyboardInterrupt",
     "evalue": "",
     "output_type": "error",
     "traceback": [
      "\u001b[1;31m---------------------------------------------------------------------\u001b[0m",
      "\u001b[1;31mKeyboardInterrupt\u001b[0m                   Traceback (most recent call last)",
      "\u001b[1;32m<ipython-input-2-0aa309a248d7>\u001b[0m in \u001b[0;36m<module>\u001b[1;34m\u001b[0m\n\u001b[0;32m      4\u001b[0m \u001b[0ms_net\u001b[0m\u001b[1;33m.\u001b[0m\u001b[0mmodel\u001b[0m\u001b[1;33m.\u001b[0m\u001b[0msummary\u001b[0m\u001b[1;33m(\u001b[0m\u001b[1;33m)\u001b[0m\u001b[1;33m\u001b[0m\u001b[1;33m\u001b[0m\u001b[0m\n\u001b[0;32m      5\u001b[0m \u001b[1;33m\u001b[0m\u001b[0m\n\u001b[1;32m----> 6\u001b[1;33m \u001b[0mhistory\u001b[0m \u001b[1;33m=\u001b[0m \u001b[0mtry_train\u001b[0m\u001b[1;33m(\u001b[0m\u001b[0ms_net\u001b[0m\u001b[1;33m,\u001b[0m \u001b[0mepochs\u001b[0m\u001b[1;33m=\u001b[0m\u001b[1;36m400\u001b[0m\u001b[1;33m,\u001b[0m \u001b[0mverbose\u001b[0m\u001b[1;33m=\u001b[0m\u001b[1;36m1\u001b[0m\u001b[1;33m)\u001b[0m\u001b[1;33m\u001b[0m\u001b[1;33m\u001b[0m\u001b[0m\n\u001b[0m\u001b[0;32m      7\u001b[0m \u001b[1;32mif\u001b[0m \u001b[0mhistory\u001b[0m\u001b[1;33m:\u001b[0m\u001b[1;33m\u001b[0m\u001b[1;33m\u001b[0m\u001b[0m\n\u001b[0;32m      8\u001b[0m     \u001b[0ms_net\u001b[0m\u001b[1;33m.\u001b[0m\u001b[0mevaluate\u001b[0m\u001b[1;33m(\u001b[0m\u001b[0mhistory\u001b[0m\u001b[1;33m,\u001b[0m \u001b[0msame_test_paths\u001b[0m\u001b[1;33m,\u001b[0m \u001b[0mdiff_test_paths\u001b[0m\u001b[1;33m)\u001b[0m\u001b[1;33m\u001b[0m\u001b[1;33m\u001b[0m\u001b[0m\n",
      "\u001b[1;32m<ipython-input-1-b1484668a250>\u001b[0m in \u001b[0;36mtry_train\u001b[1;34m(siamese_net, epochs, epoch_shuffle, verbose)\u001b[0m\n\u001b[0;32m     13\u001b[0m     \u001b[1;32mtry\u001b[0m\u001b[1;33m:\u001b[0m\u001b[1;33m\u001b[0m\u001b[1;33m\u001b[0m\u001b[0m\n\u001b[0;32m     14\u001b[0m         \u001b[0mprint\u001b[0m\u001b[1;33m(\u001b[0m\u001b[1;34m\"Training...\"\u001b[0m\u001b[1;33m)\u001b[0m\u001b[1;33m\u001b[0m\u001b[1;33m\u001b[0m\u001b[0m\n\u001b[1;32m---> 15\u001b[1;33m         \u001b[0mhistory\u001b[0m \u001b[1;33m=\u001b[0m \u001b[0msiamese_net\u001b[0m\u001b[1;33m.\u001b[0m\u001b[0mtrain\u001b[0m\u001b[1;33m(\u001b[0m\u001b[0msame_train_paths\u001b[0m\u001b[1;33m,\u001b[0m \u001b[0mdiff_train_paths\u001b[0m\u001b[1;33m,\u001b[0m \u001b[0msame_val_paths\u001b[0m\u001b[1;33m,\u001b[0m \u001b[0mdiff_val_paths\u001b[0m\u001b[1;33m,\u001b[0m \u001b[0mepochs\u001b[0m\u001b[1;33m=\u001b[0m\u001b[0mepochs\u001b[0m\u001b[1;33m,\u001b[0m \u001b[0mepoch_shuffle\u001b[0m\u001b[1;33m=\u001b[0m\u001b[0mepoch_shuffle\u001b[0m\u001b[1;33m,\u001b[0m \u001b[0mverbose\u001b[0m\u001b[1;33m=\u001b[0m\u001b[0mverbose\u001b[0m\u001b[1;33m)\u001b[0m\u001b[1;33m\u001b[0m\u001b[1;33m\u001b[0m\u001b[0m\n\u001b[0m\u001b[0;32m     16\u001b[0m         \u001b[0mprint\u001b[0m\u001b[1;33m(\u001b[0m\u001b[1;34m\"Training End\"\u001b[0m\u001b[1;33m)\u001b[0m\u001b[1;33m\u001b[0m\u001b[1;33m\u001b[0m\u001b[0m\n\u001b[0;32m     17\u001b[0m         \u001b[1;32mreturn\u001b[0m \u001b[0mhistory\u001b[0m\u001b[1;33m\u001b[0m\u001b[1;33m\u001b[0m\u001b[0m\n",
      "\u001b[1;32m~\\Workspace\\Deep-Learning-Intro\\assignment2\\src\\siamese.py\u001b[0m in \u001b[0;36mtrain\u001b[1;34m(self, same_train_paths, diff_train_paths, same_val_paths, diff_val_paths, batch_size, epochs, epoch_shuffle, earlystop_patience, verbose, use_worst_pairs, size_worst_pairs, model)\u001b[0m\n\u001b[0;32m     79\u001b[0m         history = self.model.fit_generator(generator=training_generator,\n\u001b[0;32m     80\u001b[0m                     \u001b[0mvalidation_data\u001b[0m\u001b[1;33m=\u001b[0m\u001b[0mvalidation_generator\u001b[0m\u001b[1;33m,\u001b[0m\u001b[1;33m\u001b[0m\u001b[1;33m\u001b[0m\u001b[0m\n\u001b[1;32m---> 81\u001b[1;33m                     use_multiprocessing=False, verbose=verbose, epochs=epochs)        \n\u001b[0m\u001b[0;32m     82\u001b[0m \u001b[1;33m\u001b[0m\u001b[0m\n\u001b[0;32m     83\u001b[0m         \u001b[1;32mreturn\u001b[0m \u001b[0mhistory\u001b[0m\u001b[1;33m\u001b[0m\u001b[1;33m\u001b[0m\u001b[0m\n",
      "\u001b[1;32m~\\Anaconda3\\envs\\dlinto\\lib\\site-packages\\keras\\legacy\\interfaces.py\u001b[0m in \u001b[0;36mwrapper\u001b[1;34m(*args, **kwargs)\u001b[0m\n\u001b[0;32m     89\u001b[0m                 warnings.warn('Update your `' + object_name + '` call to the ' +\n\u001b[0;32m     90\u001b[0m                               'Keras 2 API: ' + signature, stacklevel=2)\n\u001b[1;32m---> 91\u001b[1;33m             \u001b[1;32mreturn\u001b[0m \u001b[0mfunc\u001b[0m\u001b[1;33m(\u001b[0m\u001b[1;33m*\u001b[0m\u001b[0margs\u001b[0m\u001b[1;33m,\u001b[0m \u001b[1;33m**\u001b[0m\u001b[0mkwargs\u001b[0m\u001b[1;33m)\u001b[0m\u001b[1;33m\u001b[0m\u001b[1;33m\u001b[0m\u001b[0m\n\u001b[0m\u001b[0;32m     92\u001b[0m         \u001b[0mwrapper\u001b[0m\u001b[1;33m.\u001b[0m\u001b[0m_original_function\u001b[0m \u001b[1;33m=\u001b[0m \u001b[0mfunc\u001b[0m\u001b[1;33m\u001b[0m\u001b[1;33m\u001b[0m\u001b[0m\n\u001b[0;32m     93\u001b[0m         \u001b[1;32mreturn\u001b[0m \u001b[0mwrapper\u001b[0m\u001b[1;33m\u001b[0m\u001b[1;33m\u001b[0m\u001b[0m\n",
      "\u001b[1;32m~\\Anaconda3\\envs\\dlinto\\lib\\site-packages\\keras\\engine\\training.py\u001b[0m in \u001b[0;36mfit_generator\u001b[1;34m(self, generator, steps_per_epoch, epochs, verbose, callbacks, validation_data, validation_steps, class_weight, max_queue_size, workers, use_multiprocessing, shuffle, initial_epoch)\u001b[0m\n\u001b[0;32m   1416\u001b[0m             \u001b[0muse_multiprocessing\u001b[0m\u001b[1;33m=\u001b[0m\u001b[0muse_multiprocessing\u001b[0m\u001b[1;33m,\u001b[0m\u001b[1;33m\u001b[0m\u001b[1;33m\u001b[0m\u001b[0m\n\u001b[0;32m   1417\u001b[0m             \u001b[0mshuffle\u001b[0m\u001b[1;33m=\u001b[0m\u001b[0mshuffle\u001b[0m\u001b[1;33m,\u001b[0m\u001b[1;33m\u001b[0m\u001b[1;33m\u001b[0m\u001b[0m\n\u001b[1;32m-> 1418\u001b[1;33m             initial_epoch=initial_epoch)\n\u001b[0m\u001b[0;32m   1419\u001b[0m \u001b[1;33m\u001b[0m\u001b[0m\n\u001b[0;32m   1420\u001b[0m     \u001b[1;33m@\u001b[0m\u001b[0minterfaces\u001b[0m\u001b[1;33m.\u001b[0m\u001b[0mlegacy_generator_methods_support\u001b[0m\u001b[1;33m\u001b[0m\u001b[1;33m\u001b[0m\u001b[0m\n",
      "\u001b[1;32m~\\Anaconda3\\envs\\dlinto\\lib\\site-packages\\keras\\engine\\training_generator.py\u001b[0m in \u001b[0;36mfit_generator\u001b[1;34m(model, generator, steps_per_epoch, epochs, verbose, callbacks, validation_data, validation_steps, class_weight, max_queue_size, workers, use_multiprocessing, shuffle, initial_epoch)\u001b[0m\n\u001b[0;32m    215\u001b[0m                 outs = model.train_on_batch(x, y,\n\u001b[0;32m    216\u001b[0m                                             \u001b[0msample_weight\u001b[0m\u001b[1;33m=\u001b[0m\u001b[0msample_weight\u001b[0m\u001b[1;33m,\u001b[0m\u001b[1;33m\u001b[0m\u001b[1;33m\u001b[0m\u001b[0m\n\u001b[1;32m--> 217\u001b[1;33m                                             class_weight=class_weight)\n\u001b[0m\u001b[0;32m    218\u001b[0m \u001b[1;33m\u001b[0m\u001b[0m\n\u001b[0;32m    219\u001b[0m                 \u001b[0mouts\u001b[0m \u001b[1;33m=\u001b[0m \u001b[0mto_list\u001b[0m\u001b[1;33m(\u001b[0m\u001b[0mouts\u001b[0m\u001b[1;33m)\u001b[0m\u001b[1;33m\u001b[0m\u001b[1;33m\u001b[0m\u001b[0m\n",
      "\u001b[1;32m~\\Anaconda3\\envs\\dlinto\\lib\\site-packages\\keras\\engine\\training.py\u001b[0m in \u001b[0;36mtrain_on_batch\u001b[1;34m(self, x, y, sample_weight, class_weight)\u001b[0m\n\u001b[0;32m   1215\u001b[0m             \u001b[0mins\u001b[0m \u001b[1;33m=\u001b[0m \u001b[0mx\u001b[0m \u001b[1;33m+\u001b[0m \u001b[0my\u001b[0m \u001b[1;33m+\u001b[0m \u001b[0msample_weights\u001b[0m\u001b[1;33m\u001b[0m\u001b[1;33m\u001b[0m\u001b[0m\n\u001b[0;32m   1216\u001b[0m         \u001b[0mself\u001b[0m\u001b[1;33m.\u001b[0m\u001b[0m_make_train_function\u001b[0m\u001b[1;33m(\u001b[0m\u001b[1;33m)\u001b[0m\u001b[1;33m\u001b[0m\u001b[1;33m\u001b[0m\u001b[0m\n\u001b[1;32m-> 1217\u001b[1;33m         \u001b[0moutputs\u001b[0m \u001b[1;33m=\u001b[0m \u001b[0mself\u001b[0m\u001b[1;33m.\u001b[0m\u001b[0mtrain_function\u001b[0m\u001b[1;33m(\u001b[0m\u001b[0mins\u001b[0m\u001b[1;33m)\u001b[0m\u001b[1;33m\u001b[0m\u001b[1;33m\u001b[0m\u001b[0m\n\u001b[0m\u001b[0;32m   1218\u001b[0m         \u001b[1;32mreturn\u001b[0m \u001b[0munpack_singleton\u001b[0m\u001b[1;33m(\u001b[0m\u001b[0moutputs\u001b[0m\u001b[1;33m)\u001b[0m\u001b[1;33m\u001b[0m\u001b[1;33m\u001b[0m\u001b[0m\n\u001b[0;32m   1219\u001b[0m \u001b[1;33m\u001b[0m\u001b[0m\n",
      "\u001b[1;32m~\\Anaconda3\\envs\\dlinto\\lib\\site-packages\\keras\\backend\\tensorflow_backend.py\u001b[0m in \u001b[0;36m__call__\u001b[1;34m(self, inputs)\u001b[0m\n\u001b[0;32m   2713\u001b[0m                 \u001b[1;32mreturn\u001b[0m \u001b[0mself\u001b[0m\u001b[1;33m.\u001b[0m\u001b[0m_legacy_call\u001b[0m\u001b[1;33m(\u001b[0m\u001b[0minputs\u001b[0m\u001b[1;33m)\u001b[0m\u001b[1;33m\u001b[0m\u001b[1;33m\u001b[0m\u001b[0m\n\u001b[0;32m   2714\u001b[0m \u001b[1;33m\u001b[0m\u001b[0m\n\u001b[1;32m-> 2715\u001b[1;33m             \u001b[1;32mreturn\u001b[0m \u001b[0mself\u001b[0m\u001b[1;33m.\u001b[0m\u001b[0m_call\u001b[0m\u001b[1;33m(\u001b[0m\u001b[0minputs\u001b[0m\u001b[1;33m)\u001b[0m\u001b[1;33m\u001b[0m\u001b[1;33m\u001b[0m\u001b[0m\n\u001b[0m\u001b[0;32m   2716\u001b[0m         \u001b[1;32melse\u001b[0m\u001b[1;33m:\u001b[0m\u001b[1;33m\u001b[0m\u001b[1;33m\u001b[0m\u001b[0m\n\u001b[0;32m   2717\u001b[0m             \u001b[1;32mif\u001b[0m \u001b[0mpy_any\u001b[0m\u001b[1;33m(\u001b[0m\u001b[0mis_tensor\u001b[0m\u001b[1;33m(\u001b[0m\u001b[0mx\u001b[0m\u001b[1;33m)\u001b[0m \u001b[1;32mfor\u001b[0m \u001b[0mx\u001b[0m \u001b[1;32min\u001b[0m \u001b[0minputs\u001b[0m\u001b[1;33m)\u001b[0m\u001b[1;33m:\u001b[0m\u001b[1;33m\u001b[0m\u001b[1;33m\u001b[0m\u001b[0m\n",
      "\u001b[1;32m~\\Anaconda3\\envs\\dlinto\\lib\\site-packages\\keras\\backend\\tensorflow_backend.py\u001b[0m in \u001b[0;36m_call\u001b[1;34m(self, inputs)\u001b[0m\n\u001b[0;32m   2673\u001b[0m             \u001b[0mfetched\u001b[0m \u001b[1;33m=\u001b[0m \u001b[0mself\u001b[0m\u001b[1;33m.\u001b[0m\u001b[0m_callable_fn\u001b[0m\u001b[1;33m(\u001b[0m\u001b[1;33m*\u001b[0m\u001b[0marray_vals\u001b[0m\u001b[1;33m,\u001b[0m \u001b[0mrun_metadata\u001b[0m\u001b[1;33m=\u001b[0m\u001b[0mself\u001b[0m\u001b[1;33m.\u001b[0m\u001b[0mrun_metadata\u001b[0m\u001b[1;33m)\u001b[0m\u001b[1;33m\u001b[0m\u001b[1;33m\u001b[0m\u001b[0m\n\u001b[0;32m   2674\u001b[0m         \u001b[1;32melse\u001b[0m\u001b[1;33m:\u001b[0m\u001b[1;33m\u001b[0m\u001b[1;33m\u001b[0m\u001b[0m\n\u001b[1;32m-> 2675\u001b[1;33m             \u001b[0mfetched\u001b[0m \u001b[1;33m=\u001b[0m \u001b[0mself\u001b[0m\u001b[1;33m.\u001b[0m\u001b[0m_callable_fn\u001b[0m\u001b[1;33m(\u001b[0m\u001b[1;33m*\u001b[0m\u001b[0marray_vals\u001b[0m\u001b[1;33m)\u001b[0m\u001b[1;33m\u001b[0m\u001b[1;33m\u001b[0m\u001b[0m\n\u001b[0m\u001b[0;32m   2676\u001b[0m         \u001b[1;32mreturn\u001b[0m \u001b[0mfetched\u001b[0m\u001b[1;33m[\u001b[0m\u001b[1;33m:\u001b[0m\u001b[0mlen\u001b[0m\u001b[1;33m(\u001b[0m\u001b[0mself\u001b[0m\u001b[1;33m.\u001b[0m\u001b[0moutputs\u001b[0m\u001b[1;33m)\u001b[0m\u001b[1;33m]\u001b[0m\u001b[1;33m\u001b[0m\u001b[1;33m\u001b[0m\u001b[0m\n\u001b[0;32m   2677\u001b[0m \u001b[1;33m\u001b[0m\u001b[0m\n",
      "\u001b[1;32m~\\Anaconda3\\envs\\dlinto\\lib\\site-packages\\tensorflow\\python\\client\\session.py\u001b[0m in \u001b[0;36m__call__\u001b[1;34m(self, *args)\u001b[0m\n\u001b[0;32m   1449\u001b[0m         \u001b[1;32mif\u001b[0m \u001b[0mself\u001b[0m\u001b[1;33m.\u001b[0m\u001b[0m_session\u001b[0m\u001b[1;33m.\u001b[0m\u001b[0m_created_with_new_api\u001b[0m\u001b[1;33m:\u001b[0m\u001b[1;33m\u001b[0m\u001b[1;33m\u001b[0m\u001b[0m\n\u001b[0;32m   1450\u001b[0m           return tf_session.TF_SessionRunCallable(\n\u001b[1;32m-> 1451\u001b[1;33m               self._session._session, self._handle, args, status, None)\n\u001b[0m\u001b[0;32m   1452\u001b[0m         \u001b[1;32melse\u001b[0m\u001b[1;33m:\u001b[0m\u001b[1;33m\u001b[0m\u001b[1;33m\u001b[0m\u001b[0m\n\u001b[0;32m   1453\u001b[0m           return tf_session.TF_DeprecatedSessionRunCallable(\n",
      "\u001b[1;31mKeyboardInterrupt\u001b[0m: "
     ]
    }
   ],
   "source": [
    "s_net = Siamese()\n",
    "s_net.build('hani')\n",
    "print(\"Hani Model:\")\n",
    "s_net.model.summary()\n",
    "\n",
    "history = try_train(s_net, epochs=400, verbose=1)\n",
    "if history:\n",
    "    s_net.evaluate(history, same_test_paths, diff_test_paths)"
   ]
  },
  {
   "cell_type": "code",
   "execution_count": 14,
   "metadata": {},
   "outputs": [],
   "source": [
    "import numpy as np\n",
    "y_pred, y = s_net.predict(same_train_paths, diff_train_paths)"
   ]
  },
  {
   "cell_type": "code",
   "execution_count": 15,
   "metadata": {},
   "outputs": [],
   "source": [
    "results = []\n",
    "thresholds = np.linspace(0,4,20000)\n",
    "for i in thresholds:\n",
    "    results.append(np.count_nonzero(y_pred[np.where(y==0)] > i) + np.count_nonzero(y_pred[np.where(y==1)] < i))\n",
    "    \n",
    "results = np.asarray(results)"
   ]
  },
  {
   "cell_type": "code",
   "execution_count": 16,
   "metadata": {},
   "outputs": [
    {
     "name": "stdout",
     "output_type": "stream",
     "text": [
      "threshold is: 1.2148607430371519\n",
      "score is: 0.9960227272727272\n"
     ]
    }
   ],
   "source": [
    "print('threshold is: {}'.format(thresholds[results.argmax()]))\n",
    "print('score is: {}'.format(results[results.argmax()]/len(y_pred)))"
   ]
  },
  {
   "cell_type": "code",
   "execution_count": 17,
   "metadata": {},
   "outputs": [
    {
     "data": {
      "text/plain": [
       "831"
      ]
     },
     "execution_count": 17,
     "metadata": {},
     "output_type": "execute_result"
    }
   ],
   "source": [
    "import numpy as np\n",
    "np.count_nonzero(y_pred[np.where(y==0)] > 1.5)"
   ]
  },
  {
   "cell_type": "code",
   "execution_count": 18,
   "metadata": {},
   "outputs": [
    {
     "data": {
      "text/plain": [
       "879"
      ]
     },
     "execution_count": 18,
     "metadata": {},
     "output_type": "execute_result"
    }
   ],
   "source": [
    "np.count_nonzero(y_pred[np.where(y==1)] < 1.5 )"
   ]
  },
  {
   "cell_type": "code",
   "execution_count": 19,
   "metadata": {},
   "outputs": [
    {
     "data": {
      "text/plain": [
       "0.8022727272727272"
      ]
     },
     "execution_count": 19,
     "metadata": {},
     "output_type": "execute_result"
    }
   ],
   "source": [
    "(566+846)/1760"
   ]
  },
  {
   "cell_type": "code",
   "execution_count": 20,
   "metadata": {},
   "outputs": [],
   "source": [
    "%matplotlib inline"
   ]
  },
  {
   "cell_type": "code",
   "execution_count": 21,
   "metadata": {},
   "outputs": [
    {
     "data": {
      "text/plain": [
       "<matplotlib.collections.PathCollection at 0x20a0116c2e8>"
      ]
     },
     "execution_count": 21,
     "metadata": {},
     "output_type": "execute_result"
    },
    {
     "data": {
      "image/png": "[encoded data removed]",
      "text/plain": [
       "<Figure size 432x288 with 1 Axes>"
      ]
     },
     "metadata": {
      "needs_background": "light"
     },
     "output_type": "display_data"
    }
   ],
   "source": [
    "import matplotlib.pyplot as plt\n",
    "import numpy as np\n",
    "\n",
    "plt.scatter(y_pred[np.where(y==0)],y_pred[np.where(y==0)], c='green')\n",
    "plt.scatter(y_pred[np.where(y==1)],y_pred[np.where(y==1)], c='red')"
   ]
  },
  {
   "cell_type": "markdown",
   "metadata": {},
   "source": [
    "## Apply ReLU as activation function"
   ]
  },
  {
   "cell_type": "code",
   "execution_count": 1,
   "metadata": {},
   "outputs": [
    {
     "ename": "NameError",
     "evalue": "name 'Siamese' is not defined",
     "output_type": "error",
     "traceback": [
      "\u001b[1;31m---------------------------------------------------------------------------\u001b[0m",
      "\u001b[1;31mNameError\u001b[0m                                 Traceback (most recent call last)",
      "\u001b[1;32m<ipython-input-1-cf644150eec3>\u001b[0m in \u001b[0;36m<module>\u001b[1;34m\u001b[0m\n\u001b[1;32m----> 1\u001b[1;33m \u001b[0ms_net\u001b[0m \u001b[1;33m=\u001b[0m \u001b[0mSiamese\u001b[0m\u001b[1;33m(\u001b[0m\u001b[1;33m)\u001b[0m\u001b[1;33m\u001b[0m\u001b[1;33m\u001b[0m\u001b[0m\n\u001b[0m\u001b[0;32m      2\u001b[0m \u001b[0ms_net\u001b[0m\u001b[1;33m.\u001b[0m\u001b[0mbuild\u001b[0m\u001b[1;33m(\u001b[0m\u001b[1;34m'hani'\u001b[0m\u001b[1;33m,\u001b[0m \u001b[0mact\u001b[0m\u001b[1;33m=\u001b[0m\u001b[1;34m'relu'\u001b[0m\u001b[1;33m)\u001b[0m\u001b[1;33m\u001b[0m\u001b[1;33m\u001b[0m\u001b[0m\n\u001b[0;32m      3\u001b[0m \u001b[0mprint\u001b[0m\u001b[1;33m(\u001b[0m\u001b[1;34m\"Hani Model with ReLU:\"\u001b[0m\u001b[1;33m)\u001b[0m\u001b[1;33m\u001b[0m\u001b[1;33m\u001b[0m\u001b[0m\n\u001b[0;32m      4\u001b[0m \u001b[0ms_net\u001b[0m\u001b[1;33m.\u001b[0m\u001b[0mmodel\u001b[0m\u001b[1;33m.\u001b[0m\u001b[0msummary\u001b[0m\u001b[1;33m(\u001b[0m\u001b[1;33m)\u001b[0m\u001b[1;33m\u001b[0m\u001b[1;33m\u001b[0m\u001b[0m\n\u001b[0;32m      5\u001b[0m \u001b[1;33m\u001b[0m\u001b[0m\n",
      "\u001b[1;31mNameError\u001b[0m: name 'Siamese' is not defined"
     ]
    }
   ],
   "source": [
    "s_net = Siamese()\n",
    "s_net.build('hani', act='relu')\n",
    "print(\"Hani Model with ReLU:\")\n",
    "s_net.model.summary()\n",
    "\n",
    "history = try_train(s_net)\n",
    "if history:\n",
    "    s_net.evaluate(history, same_test_paths, diff_test_paths)"
   ]
  },
  {
   "cell_type": "markdown",
   "metadata": {},
   "source": [
    "## Apply dropout before the last convolution"
   ]
  },
  {
   "cell_type": "code",
   "execution_count": null,
   "metadata": {},
   "outputs": [],
   "source": [
    "s_net = Siamese()\n",
    "s_net.build('hani', dropout='0.5')\n",
    "print(\"Hani Model with dropout=0.5:\")\n",
    "s_net.model.summary()\n",
    "\n",
    "history = try_train(s_net)\n",
    "if history:\n",
    "    s_net.evaluate(history, same_test_paths, diff_test_paths)"
   ]
  },
  {
   "cell_type": "markdown",
   "metadata": {},
   "source": [
    "## Apply batch normalization between convolutions"
   ]
  },
  {
   "cell_type": "code",
   "execution_count": null,
   "metadata": {},
   "outputs": [],
   "source": [
    "s_net = Siamese()\n",
    "s_net.build('hani', batchnorm=True)\n",
    "print(\"Hani Model with batch normalizationד:\")\n",
    "s_net.model.summary()\n",
    "\n",
    "history = try_train(s_net)\n",
    "if history:\n",
    "    s_net.evaluate(history, same_test_paths, diff_test_paths)"
   ]
  }
 ],
 "metadata": {
  "kernelspec": {
   "display_name": "Python 3",
   "language": "python",
   "name": "python3"
  },
  "language_info": {
   "codemirror_mode": {
    "name": "ipython",
    "version": 3
   },
   "file_extension": ".py",
   "mimetype": "text/x-python",
   "name": "python",
   "nbconvert_exporter": "python",
   "pygments_lexer": "ipython3",
   "version": "3.6.8"
  }
 },
 "nbformat": 4,
 "nbformat_minor": 2
}
