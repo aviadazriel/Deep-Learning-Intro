{
 "cells": [
  {
   "cell_type": "markdown",
   "metadata": {},
   "source": [
    "# Notebook for section 1"
   ]
  },
  {
   "cell_type": "code",
   "execution_count": 4,
   "metadata": {},
   "outputs": [],
   "source": [
    "%reload_ext autoreload\n",
    "%autoreload 2\n",
    "import lfw_dataset as lfw"
   ]
  },
  {
   "cell_type": "markdown",
   "metadata": {},
   "source": [
    "## Amount of entities & images {-}"
   ]
  },
  {
   "cell_type": "code",
   "execution_count": 5,
   "metadata": {},
   "outputs": [
    {
     "name": "stdout",
     "output_type": "stream",
     "text": [
      "Amount of entities: 5750\n",
      "Amount of images: 13233\n"
     ]
    }
   ],
   "source": [
    "print(f\"Amount of entities: {lfw.n_entities()}\")\n",
    "print(f\"Amount of images: {lfw.n_images()}\")"
   ]
  },
  {
   "cell_type": "markdown",
   "metadata": {},
   "source": [
    "## \"same person\" &  “different person” images pairs in the given sets {-}"
   ]
  },
  {
   "cell_type": "code",
   "execution_count": 6,
   "metadata": {},
   "outputs": [
    {
     "name": "stdout",
     "output_type": "stream",
     "text": [
      "Data already exist\n",
      "\"same person\" train images: 1100\n",
      "\"different person\" train images: 1100\n",
      "\"same person\" test images: 500\n",
      "\"different person\" test images: 500\n"
     ]
    }
   ],
   "source": [
    "same_train_paths, diff_train_paths, same_val_paths, diff_val_paths, same_test_paths, diff_test_paths = lfw.load_data()\n",
    "print(f\"\\\"same person\\\" train images: {len(same_train_paths) + len(same_val_paths)}\")\n",
    "print(f\"\\\"different person\\\" train images: {len(diff_train_paths) + len(diff_val_paths)}\")\n",
    "print(f\"\\\"same person\\\" test images: {len(same_test_paths)}\")\n",
    "print(f\"\\\"different person\\\" test images: {len(diff_test_paths)}\")"
   ]
  },
  {
   "cell_type": "code",
   "execution_count": null,
   "metadata": {},
   "outputs": [],
   "source": [
    "%matplotlib inline\n",
    "import matplotlib.pyplot as plt\n",
    "import numpy as np\n",
    "from imageio import imread\n",
    "\n",
    "# lets check that same images are really same person and vise versa\n",
    "random_index = np.random.randint(0, len(same_train_paths))\n",
    "\n",
    "f, ax = plt.subplots(2,2, figsize=(10,10))\n",
    "ax[0][0].imshow(imread(same_train_paths[random_index][0]),cmap='gray')\n",
    "ax[0][1].imshow(imread(same_train_paths[random_index][1]),cmap='gray')\n",
    "ax[1][0].imshow(imread(diff_train_paths[random_index][0]),cmap='gray')\n",
    "ax[1][1].imshow(imread(diff_train_paths[random_index][1]),cmap='gray')\n",
    "print('\\n\\tFirst row - same person. second row - different persons\\n')"
   ]
  }
 ],
 "metadata": {
  "kernelspec": {
   "display_name": "Python [conda env:dlinto] *",
   "language": "python",
   "name": "conda-env-dlinto-py"
  },
  "language_info": {
   "codemirror_mode": {
    "name": "ipython",
    "version": 3
   },
   "file_extension": ".py",
   "mimetype": "text/x-python",
   "name": "python",
   "nbconvert_exporter": "python",
   "pygments_lexer": "ipython3",
   "version": "3.6.8"
  }
 },
 "nbformat": 4,
 "nbformat_minor": 2
}
