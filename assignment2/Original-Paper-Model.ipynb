{
 "cells": [
  {
   "cell_type": "markdown",
   "metadata": {},
   "source": [
    "# Notebook for section 3.1"
   ]
  },
  {
   "cell_type": "code",
   "execution_count": 1,
   "metadata": {},
   "outputs": [
    {
     "name": "stderr",
     "output_type": "stream",
     "text": [
      "Using TensorFlow backend.\n"
     ]
    },
    {
     "name": "stdout",
     "output_type": "stream",
     "text": [
      "Data already exist\n"
     ]
    }
   ],
   "source": [
    "import src.lfw_dataset as lfw\n",
    "from src.lfw_dataset import LFWDataLoader\n",
    "from src.siamese import Siamese\n",
    "\n",
    "# load the paths of the data sets\n",
    "same_train_paths, diff_train_paths, same_val_paths, diff_val_paths, same_test_paths, diff_test_paths = lfw.load_data()\n",
    "\n",
    "def try_train(siamese_net, epochs=400, epoch_shuffle=True, verbose=0):\n",
    "    \"\"\"\n",
    "    Try to train the siamese_net model. If success, return train history. Otherwise, return None.\n",
    "    \"\"\"\n",
    "    try:\n",
    "        print(\"Training...\")\n",
    "        history = s_net.train(same_train_paths, diff_train_paths, same_val_paths, diff_val_paths, epochs=epochs, epoch_shuffle=epoch_shuffle, verbose=verbose)\n",
    "        print(\"Training End\")\n",
    "        return history\n",
    "    except Exception as e:\n",
    "        print(f\"Got exception while training: {type(e).__name__}\")\n",
    "        return None"
   ]
  },
  {
   "cell_type": "markdown",
   "metadata": {},
   "source": [
    "## Original Paper Model (without modifications)"
   ]
  },
  {
   "cell_type": "code",
   "execution_count": 2,
   "metadata": {},
   "outputs": [
    {
     "name": "stdout",
     "output_type": "stream",
     "text": [
      "Original Paper Model:\n",
      "__________________________________________________________________________________________________\n",
      "Layer (type)                    Output Shape         Param #     Connected to                     \n",
      "==================================================================================================\n",
      "input_1 (InputLayer)            (None, 250, 250, 1)  0                                            \n",
      "__________________________________________________________________________________________________\n",
      "input_2 (InputLayer)            (None, 250, 250, 1)  0                                            \n",
      "__________________________________________________________________________________________________\n",
      "sequential_1 (Sequential)       (None, 4096)         605178688   input_1[0][0]                    \n",
      "                                                                 input_2[0][0]                    \n",
      "__________________________________________________________________________________________________\n",
      "lambda_1 (Lambda)               (None, 4096)         0           sequential_1[1][0]               \n",
      "                                                                 sequential_1[2][0]               \n",
      "__________________________________________________________________________________________________\n",
      "dense_2 (Dense)                 (None, 1)            4097        lambda_1[0][0]                   \n",
      "==================================================================================================\n",
      "Total params: 605,182,785\n",
      "Trainable params: 605,182,785\n",
      "Non-trainable params: 0\n",
      "__________________________________________________________________________________________________\n",
      "Training...\n",
      "Got exception while training: ResourceExhaustedError\n"
     ]
    }
   ],
   "source": [
    "s_net = Siamese()\n",
    "s_net.build('paper_network')\n",
    "print(\"Original Paper Model:\")\n",
    "s_net.model.summary()\n",
    "\n",
    "history = try_train(s_net)\n",
    "if history:\n",
    "    s_net.evaluate(history, same_test_paths, diff_test_paths)"
   ]
  },
  {
   "cell_type": "markdown",
   "metadata": {},
   "source": [
    "## Shrink the fully connected layer"
   ]
  },
  {
   "cell_type": "code",
   "execution_count": 3,
   "metadata": {},
   "outputs": [
    {
     "name": "stdout",
     "output_type": "stream",
     "text": [
      "Dense size is 512 instead of 4096:\n",
      "__________________________________________________________________________________________________\n",
      "Layer (type)                    Output Shape         Param #     Connected to                     \n",
      "==================================================================================================\n",
      "input_3 (InputLayer)            (None, 250, 250, 1)  0                                            \n",
      "__________________________________________________________________________________________________\n",
      "input_4 (InputLayer)            (None, 250, 250, 1)  0                                            \n",
      "__________________________________________________________________________________________________\n",
      "sequential_2 (Sequential)       (None, 512)          76692800    input_3[0][0]                    \n",
      "                                                                 input_4[0][0]                    \n",
      "__________________________________________________________________________________________________\n",
      "lambda_2 (Lambda)               (None, 512)          0           sequential_2[1][0]               \n",
      "                                                                 sequential_2[2][0]               \n",
      "__________________________________________________________________________________________________\n",
      "dense_4 (Dense)                 (None, 1)            513         lambda_2[0][0]                   \n",
      "==================================================================================================\n",
      "Total params: 76,693,313\n",
      "Trainable params: 76,693,313\n",
      "Non-trainable params: 0\n",
      "__________________________________________________________________________________________________\n",
      "Training...\n",
      "Got exception while training: ResourceExhaustedError\n"
     ]
    }
   ],
   "source": [
    "s_net = Siamese()\n",
    "s_net.build('paper_network', dense_size=512)\n",
    "print(\"Dense size is 512 instead of 4096:\")\n",
    "s_net.model.summary()\n",
    "\n",
    "history = try_train(s_net)\n",
    "if history:\n",
    "    s_net.evaluate(history, same_test_paths, diff_test_paths)\n"
   ]
  },
  {
   "cell_type": "markdown",
   "metadata": {},
   "source": [
    "## Reduce filters size "
   ]
  },
  {
   "cell_type": "code",
   "execution_count": 4,
   "metadata": {},
   "outputs": [
    {
     "name": "stdout",
     "output_type": "stream",
     "text": [
      "Dense size is 512 instead of 4096:\n",
      "__________________________________________________________________________________________________\n",
      "Layer (type)                    Output Shape         Param #     Connected to                     \n",
      "==================================================================================================\n",
      "input_5 (InputLayer)            (None, 250, 250, 1)  0                                            \n",
      "__________________________________________________________________________________________________\n",
      "input_6 (InputLayer)            (None, 250, 250, 1)  0                                            \n",
      "__________________________________________________________________________________________________\n",
      "sequential_3 (Sequential)       (None, 4096)         1007743616  input_5[0][0]                    \n",
      "                                                                 input_6[0][0]                    \n",
      "__________________________________________________________________________________________________\n",
      "lambda_3 (Lambda)               (None, 4096)         0           sequential_3[1][0]               \n",
      "                                                                 sequential_3[2][0]               \n",
      "__________________________________________________________________________________________________\n",
      "dense_6 (Dense)                 (None, 1)            4097        lambda_3[0][0]                   \n",
      "==================================================================================================\n",
      "Total params: 1,007,747,713\n",
      "Trainable params: 1,007,747,713\n",
      "Non-trainable params: 0\n",
      "__________________________________________________________________________________________________\n",
      "Training...\n",
      "Got exception while training: ResourceExhaustedError\n"
     ]
    }
   ],
   "source": [
    "s_net = Siamese()\n",
    "s_net.build('paper_network')\n",
    "print(\"Dense size is 512 instead of 4096:\")\n",
    "s_net.model.summary()\n",
    "\n",
    "history = try_train(s_net)\n",
    "if history:\n",
    "    s_net.evaluate(history, same_test_paths, diff_test_paths)"
   ]
  }
 ],
 "metadata": {
  "kernelspec": {
   "display_name": "Python [conda env:dlinto] *",
   "language": "python",
   "name": "conda-env-dlinto-py"
  },
  "language_info": {
   "codemirror_mode": {
    "name": "ipython",
    "version": 3
   },
   "file_extension": ".py",
   "mimetype": "text/x-python",
   "name": "python",
   "nbconvert_exporter": "python",
   "pygments_lexer": "ipython3",
   "version": "3.6.8"
  }
 },
 "nbformat": 4,
 "nbformat_minor": 2
}
