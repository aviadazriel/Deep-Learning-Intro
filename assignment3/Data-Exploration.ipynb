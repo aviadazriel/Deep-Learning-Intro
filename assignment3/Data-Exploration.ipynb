{
 "cells": [
  {
   "cell_type": "code",
   "execution_count": 97,
   "metadata": {},
   "outputs": [],
   "source": [
    "import pretty_midi as pm\n",
    "import pathlib\n",
    "import random\n",
    "import IPython.display\n",
    "\n",
    "midi_files = pathlib.Path('Data/midi_files/')"
   ]
  },
  {
   "cell_type": "code",
   "execution_count": 98,
   "metadata": {},
   "outputs": [],
   "source": [
    "all_midi_paths = list(midi_files.glob('*'))\n",
    "all_midi_paths[:10]\n",
    "midi_count = len(all_midi_paths)\n",
    "\n",
    "def get_n_midis(n=5):\n",
    "    random.shuffle(all_midi_paths)\n",
    "    n_midis = all_midi_paths[:n]\n",
    "    return n_midis\n",
    "\n",
    "def display_midi(path, midi):\n",
    "    print(path.name)\n",
    "    IPython.display.Audio(midi.synthesize(), rate=16000)"
   ]
  },
  {
   "cell_type": "code",
   "execution_count": 99,
   "metadata": {},
   "outputs": [
    {
     "name": "stdout",
     "output_type": "stream",
     "text": [
      "Eagle_Eye_Cherry_-_Save_Tonight.mid\n"
     ]
    }
   ],
   "source": [
    "midis_paths = get_n_midis()\n",
    "midis_path_audio = [(path ,pm.PrettyMIDI(str(path))) for path in midis_paths]\n",
    "display_midi(*(midis_path_audio[0]))"
   ]
  }
 ],
 "metadata": {
  "kernelspec": {
   "display_name": "Python [conda env:dlinto] *",
   "language": "python",
   "name": "conda-env-dlinto-py"
  },
  "language_info": {
   "codemirror_mode": {
    "name": "ipython",
    "version": 3
   },
   "file_extension": ".py",
   "mimetype": "text/x-python",
   "name": "python",
   "nbconvert_exporter": "python",
   "pygments_lexer": "ipython3",
   "version": "3.6.8"
  }
 },
 "nbformat": 4,
 "nbformat_minor": 2
}
