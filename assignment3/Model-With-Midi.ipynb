{
 "cells": [
  {
   "cell_type": "code",
   "execution_count": 11,
   "metadata": {},
   "outputs": [],
   "source": [
    "import warnings\n",
    "warnings.filterwarnings(\"ignore\")\n",
    "import pathlib\n",
    "import os\n",
    "from src.midi_processing import get_song_vector, DOC2VEC_MODELS_PATHS\n",
    "import numpy as np\n",
    "from sklearn.manifold import TSNE\n",
    "import joblib\n",
    "from tqdm import tqdm\n",
    "import multiprocessing\n",
    "import matplotlib.pyplot as plt\n",
    "\n",
    "models = {name: joblib.load(os.path.join(DOC2VEC_MODELS_PATHS, f'{name}_model.jblib')) for name in ['drums', 'melody', 'harmony']}"
   ]
  },
  {
   "cell_type": "code",
   "execution_count": 2,
   "metadata": {},
   "outputs": [],
   "source": [
    "midi_files = pathlib.Path('Data/midi_files/')\n",
    "all_midi_paths = list(midi_files.glob('*'))"
   ]
  },
  {
   "cell_type": "code",
   "execution_count": 36,
   "metadata": {},
   "outputs": [
    {
     "name": "stderr",
     "output_type": "stream",
     "text": [
      "  3%|██▌                                                                                                | 16/625 [00:04<02:33,  3.96it/s]"
     ]
    },
    {
     "name": "stdout",
     "output_type": "stream",
     "text": [
      "data byte must be in range 0..127\n",
      "Invalid song: Aaron_Neville_-_Tell_It_Like_It_Is.mid\n"
     ]
    },
    {
     "name": "stderr",
     "output_type": "stream",
     "text": [
      " 20%|███████████████████▎                                                                              | 123/625 [00:43<02:14,  3.73it/s]"
     ]
    },
    {
     "name": "stdout",
     "output_type": "stream",
     "text": [
      "Could not decode key with 1 flats and mode 255\n",
      "Invalid song: Beastie_Boys_-_Girls.mid\n"
     ]
    },
    {
     "name": "stderr",
     "output_type": "stream",
     "text": [
      " 27%|██████████████████████████                                                                        | 166/625 [00:58<02:09,  3.54it/s]"
     ]
    },
    {
     "name": "stdout",
     "output_type": "stream",
     "text": [
      "data byte must be in range 0..127\n",
      "Invalid song: Billy_Joel_-_Movin'_Out.mid\n"
     ]
    },
    {
     "name": "stderr",
     "output_type": "stream",
     "text": [
      " 27%|██████████████████████████▊                                                                       | 171/625 [00:59<01:48,  4.19it/s]"
     ]
    },
    {
     "name": "stdout",
     "output_type": "stream",
     "text": [
      "data byte must be in range 0..127\n",
      "Invalid song: Billy_Joel_-_Pressure.mid\n"
     ]
    },
    {
     "name": "stderr",
     "output_type": "stream",
     "text": [
      " 39%|██████████████████████████████████████                                                            | 243/625 [01:23<01:47,  3.56it/s]"
     ]
    },
    {
     "name": "stdout",
     "output_type": "stream",
     "text": [
      "\n",
      "Invalid song: Brian_McKnight_-_On_The_Down_Low.mid\n"
     ]
    },
    {
     "name": "stderr",
     "output_type": "stream",
     "text": [
      " 58%|████████████████████████████████████████████████████████▌                                         | 361/625 [02:02<01:10,  3.74it/s]"
     ]
    },
    {
     "name": "stdout",
     "output_type": "stream",
     "text": [
      "Could not decode key with 4 flats and mode 255\n",
      "Invalid song: Dan_Fogelberg_-_Leader_of_the_Band.mid\n"
     ]
    },
    {
     "name": "stderr",
     "output_type": "stream",
     "text": [
      " 59%|█████████████████████████████████████████████████████████▌                                        | 367/625 [02:03<01:15,  3.44it/s]"
     ]
    },
    {
     "name": "stdout",
     "output_type": "stream",
     "text": [
      "Could not decode key with 16 sharps and mode 1\n",
      "Invalid song: David_Bowie_-_Lazarus.mid\n"
     ]
    },
    {
     "name": "stderr",
     "output_type": "stream",
     "text": [
      "100%|██████████████████████████████████████████████████████████████████████████████████████████████████| 625/625 [03:35<00:00,  3.79it/s]\n"
     ]
    }
   ],
   "source": [
    "songs_vectors = []\n",
    "song_names = []\n",
    "\n",
    "for midi_file in tqdm(all_midi_paths, total=len(all_midi_paths)):\n",
    "    try:\n",
    "        songs_vectors.append(get_song_vector(str(midi_file), models))\n",
    "        song_names.append(midi_file.name)\n",
    "    except Exception as e:\n",
    "        print(e)\n",
    "        print(f\"Invalid song: {midi_file.name}\")\n",
    "        continue        "
   ]
  },
  {
   "cell_type": "code",
   "execution_count": 39,
   "metadata": {},
   "outputs": [],
   "source": [
    "songs_vectors = np.array(songs_vectors)\n",
    "\n",
    "tsne = TSNE(n_components=2, verbose=3)\n",
    "vectors_transformed = tsne.fit_transform(songs_vectors)"
   ]
  },
  {
   "cell_type": "code",
   "execution_count": 59,
   "metadata": {},
   "outputs": [
    {
     "data": {
      "text/plain": [
       "'C:\\\\Users\\\\Eli\\\\Workspace\\\\Deep-Learning-Intro\\\\assignment3\\\\melody_scatter.html'"
      ]
     },
     "execution_count": 59,
     "metadata": {},
     "output_type": "execute_result"
    }
   ],
   "source": [
    "from bokeh.plotting import figure, output_file, save\n",
    "from bokeh.models import ColumnDataSource, HoverTool\n",
    "\n",
    "# output to static HTML file\n",
    "output_file(\"melody_scatter.html\")\n",
    "\n",
    "data_source = ColumnDataSource(data=dict(x=vectors_transformed[:, 0], y=vectors_transformed[:, 1], song_name=song_names))\n",
    "hover = HoverTool(tooltips=[\n",
    "    (\"song_name\", \"@song_name\"),\n",
    "])\n",
    "\n",
    "p = figure(sizing_mode='stretch_both', title=\"Melody embedding TSNE visualization\")\n",
    "p.add_tools(hover)\n",
    "\n",
    "\n",
    "# add a circle renderer with a size, color, and alpha\n",
    "p.circle(source=data_source, x='x', y='y', size=10, color=\"navy\", alpha=0.5)\n",
    "\n",
    "# show the results\n",
    "save(p)"
   ]
  }
 ],
 "metadata": {
  "kernelspec": {
   "display_name": "Python 3",
   "language": "python",
   "name": "python3"
  },
  "language_info": {
   "codemirror_mode": {
    "name": "ipython",
    "version": 3
   },
   "file_extension": ".py",
   "mimetype": "text/x-python",
   "name": "python",
   "nbconvert_exporter": "python",
   "pygments_lexer": "ipython3",
   "version": "3.7.0"
  }
 },
 "nbformat": 4,
 "nbformat_minor": 2
}
