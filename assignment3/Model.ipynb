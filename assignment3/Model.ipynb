{
 "cells": [
  {
   "cell_type": "markdown",
   "metadata": {},
   "source": [
    "# Todo\n",
    "1. remove glove \n",
    "2. decrease embeddings size and use word2vec\n",
    "3. use [center loss](https://medium.com/mlreview/experiments-with-a-new-loss-term-added-to-the-standard-cross-entropy-85b080c42446)\n",
    "\n"
   ]
  },
  {
   "cell_type": "code",
   "execution_count": 31,
   "metadata": {},
   "outputs": [],
   "source": [
    "import warnings\n",
    "warnings.filterwarnings(\"ignore\")\n",
    "import src.dataset as ds\n",
    "import numpy as np\n",
    "import keras.backend as K\n",
    "from src.embeddings import extract_embedding_weights\n",
    "from keras.layers import Embedding, CuDNNLSTM, Bidirectional, Dense, CuDNNGRU\n",
    "from keras.initializers import Constant\n",
    "from keras import Sequential\n",
    "from tensorflow.python.keras.callbacks import TensorBoard\n",
    "from time import time\n",
    "import tensorflow as tf"
   ]
  },
  {
   "cell_type": "code",
   "execution_count": 35,
   "metadata": {},
   "outputs": [],
   "source": [
    "def perplexity(y_true, y_pred):\n",
    "    cross_entropy = K.categorical_crossentropy(y_true, y_pred)\n",
    "    perplexity = K.pow(2.0, cross_entropy)\n",
    "    return perplexity"
   ]
  },
  {
   "cell_type": "code",
   "execution_count": 36,
   "metadata": {},
   "outputs": [],
   "source": [
    "tensorboard = TensorBoard(log_dir='./logs', histogram_freq=0,\n",
    "                          write_graph=True, write_images=False)"
   ]
  },
  {
   "cell_type": "code",
   "execution_count": 37,
   "metadata": {},
   "outputs": [
    {
     "name": "stderr",
     "output_type": "stream",
     "text": [
      "100%|███████████████████████████████████████████████████████████████████████████| 615/615 [00:01<00:00, 334.64it/s]\n",
      "100%|███████████████████████████████████████████████████████████████████████████| 615/615 [00:01<00:00, 336.07it/s]\n"
     ]
    }
   ],
   "source": [
    "X, y, tokenizer = ds.load_tokenized_data()\n",
    "embedding_matrix = extract_embedding_weights()"
   ]
  },
  {
   "cell_type": "code",
   "execution_count": 40,
   "metadata": {},
   "outputs": [],
   "source": [
    "def make_model(rnn_units=50, bidirectional=True, rnn_type='lstm'):\n",
    "    \n",
    "    rnn_types = {\n",
    "        'lstm': CuDNNLSTM,\n",
    "        'gru': CuDNNGRU\n",
    "    }\n",
    "    rnn_type = rnn_types[rnn_type]\n",
    "    \n",
    "    # load pre-trained word embeddings into an Embedding layer\n",
    "    # note that we set trainable = False so as to keep the embeddings fixed\n",
    "    EMBEDDING_DIM = 300\n",
    "    num_words = len(tokenizer.word_index) + 1\n",
    "    embedding_layer = Embedding(num_words,\n",
    "                                EMBEDDING_DIM,\n",
    "                                embeddings_initializer=Constant(embedding_matrix),\n",
    "                                input_length=1,\n",
    "                                trainable=False)\n",
    "    \n",
    "    model = Sequential()\n",
    "    model.add(embedding_layer)\n",
    "    if bidirectional:\n",
    "        model.add(Bidirectional(rnn_type(rnn_units)))\n",
    "    else:\n",
    "        model.add(rnn_type(rnn_units))\n",
    "\n",
    "    model.add(Dense(num_words, activation='softmax'))\n",
    "    model.summary()\n",
    "    return model\n",
    "    \n",
    "    \n",
    "def train(model, epochs=5, batch_size=32):\n",
    "    # compile network\n",
    "    model.compile(loss='categorical_crossentropy', optimizer='adam', metrics=[perplexity])\n",
    "    # fit network\n",
    "    model.fit(X, y, \n",
    "              epochs=epochs,\n",
    "              batch_size=batch_size,\n",
    "              verbose=1, \n",
    "              shuffle=True,\n",
    "              validation_split=0.2,\n",
    "              callbacks=[tensorboard])\n",
    "    \n",
    "    \n",
    "# generate a sequence from the model\n",
    "def generate_seq(model, tokenizer, seed_text, n_words):\n",
    "\tin_text, result = seed_text, seed_text\n",
    "\t# generate a fixed number of words\n",
    "\tfor _ in range(n_words):\n",
    "\t\t# encode the text as integer\n",
    "\t\tencoded = tokenizer.texts_to_sequences([in_text])[0]\n",
    "\t\tencoded = np.array(encoded)\n",
    "\t\t# predict a word in the vocabulary\n",
    "\t\tyhat = model.predict_classes(encoded, verbose=0)\n",
    "    \t\t# map predicted word index to word\n",
    "\t\tout_word = ''\n",
    "\t\tfor word, index in tokenizer.word_index.items():\n",
    "\t\t\tif index == yhat:\n",
    "\t\t\t\tout_word = word\n",
    "\t\t\t\tbreak\n",
    "\t\t# append to input\n",
    "\t\tin_text, result = out_word, result + ' ' + out_word\n",
    "\treturn result"
   ]
  },
  {
   "cell_type": "code",
   "execution_count": 42,
   "metadata": {},
   "outputs": [
    {
     "name": "stdout",
     "output_type": "stream",
     "text": [
      "_________________________________________________________________\n",
      "Layer (type)                 Output Shape              Param #   \n",
      "=================================================================\n",
      "embedding_4 (Embedding)      (None, 1, 300)            2251800   \n",
      "_________________________________________________________________\n",
      "bidirectional_3 (Bidirection (None, 300)               406800    \n",
      "_________________________________________________________________\n",
      "dense_4 (Dense)              (None, 7506)              2259306   \n",
      "=================================================================\n",
      "Total params: 4,917,906\n",
      "Trainable params: 2,666,106\n",
      "Non-trainable params: 2,251,800\n",
      "_________________________________________________________________\n"
     ]
    }
   ],
   "source": [
    "model = make_model(rnn_units=150, rnn_type='gru')"
   ]
  },
  {
   "cell_type": "code",
   "execution_count": 44,
   "metadata": {},
   "outputs": [
    {
     "name": "stdout",
     "output_type": "stream",
     "text": [
      "Train on 154596 samples, validate on 38650 samples\n",
      "Epoch 1/10\n",
      "154596/154596 [==============================] - 18s 120us/step - loss: 5.0682 - perplexity: 464.6961 - val_loss: 5.3069 - val_perplexity: 1078.3435\n",
      "Epoch 2/10\n",
      "154596/154596 [==============================] - 16s 102us/step - loss: 4.3942 - perplexity: 169.3594 - val_loss: 5.3357 - val_perplexity: 2379.2608\n",
      "Epoch 3/10\n",
      "154596/154596 [==============================] - 16s 102us/step - loss: 4.1694 - perplexity: 114.5953 - val_loss: 5.3621 - val_perplexity: 2831.8271\n",
      "Epoch 4/10\n",
      "154596/154596 [==============================] - 16s 102us/step - loss: 4.0373 - perplexity: 96.8613 - val_loss: 5.3961 - val_perplexity: 3330.2069\n",
      "Epoch 5/10\n",
      "154596/154596 [==============================] - 15s 100us/step - loss: 3.9494 - perplexity: 89.0229 - val_loss: 5.4295 - val_perplexity: 3801.4722\n",
      "Epoch 6/10\n",
      "154596/154596 [==============================] - 16s 103us/step - loss: 3.8871 - perplexity: 84.4022 - val_loss: 5.4577 - val_perplexity: 4026.6277\n",
      "Epoch 7/10\n",
      "154596/154596 [==============================] - 16s 102us/step - loss: 3.8414 - perplexity: 81.5180 - val_loss: 5.4767 - val_perplexity: 4184.6304\n",
      "Epoch 8/10\n",
      "154596/154596 [==============================] - 16s 101us/step - loss: 3.8053 - perplexity: 79.2305 - val_loss: 5.5056 - val_perplexity: 4330.1415\n",
      "Epoch 9/10\n",
      "154596/154596 [==============================] - 16s 103us/step - loss: 3.7782 - perplexity: 77.6047 - val_loss: 5.5146 - val_perplexity: 4521.9580\n",
      "Epoch 10/10\n",
      "154596/154596 [==============================] - 16s 103us/step - loss: 3.7539 - perplexity: 76.2959 - val_loss: 5.5416 - val_perplexity: 4495.4666\n"
     ]
    }
   ],
   "source": [
    "train(model, epochs=10, batch_size=128)"
   ]
  },
  {
   "cell_type": "code",
   "execution_count": 45,
   "metadata": {},
   "outputs": [
    {
     "name": "stdout",
     "output_type": "stream",
     "text": [
      "Train on 154596 samples, validate on 38650 samples\n",
      "Epoch 1/10\n",
      "154596/154596 [==============================] - 48s 313us/step - loss: 4.0269 - perplexity: 282.4869 - val_loss: 5.5054 - val_perplexity: 3390.5037\n",
      "Epoch 2/10\n",
      "154596/154596 [==============================] - 47s 302us/step - loss: 3.9002 - perplexity: 133.9690 - val_loss: 5.5660 - val_perplexity: 4512.8793\n",
      "Epoch 3/10\n",
      "154596/154596 [==============================] - 46s 301us/step - loss: 3.8475 - perplexity: 111.3551 - val_loss: 5.5732 - val_perplexity: 4425.1578\n",
      "Epoch 4/10\n",
      "154596/154596 [==============================] - 47s 302us/step - loss: 3.8177 - perplexity: 105.9812 - val_loss: 5.5793 - val_perplexity: 4647.5012\n",
      "Epoch 5/10\n",
      "154596/154596 [==============================] - 46s 298us/step - loss: 3.7949 - perplexity: 102.2752 - val_loss: 5.6122 - val_perplexity: 4844.1832\n",
      "Epoch 6/10\n",
      "154596/154596 [==============================] - 47s 304us/step - loss: 3.7763 - perplexity: 100.2864 - val_loss: 5.6225 - val_perplexity: 4971.8597\n",
      "Epoch 7/10\n",
      "154596/154596 [==============================] - 47s 304us/step - loss: 3.7632 - perplexity: 98.3624 - val_loss: 5.6309 - val_perplexity: 4985.8841\n",
      "Epoch 8/10\n",
      "154596/154596 [==============================] - 46s 299us/step - loss: 3.7508 - perplexity: 97.1627 - val_loss: 5.6497 - val_perplexity: 5052.2643\n",
      "Epoch 9/10\n",
      "154596/154596 [==============================] - 47s 301us/step - loss: 3.7405 - perplexity: 96.1936 - val_loss: 5.6784 - val_perplexity: 5289.4317\n",
      "Epoch 10/10\n",
      "154596/154596 [==============================] - 47s 302us/step - loss: 3.7306 - perplexity: 95.2994 - val_loss: 5.6773 - val_perplexity: 5293.0377\n"
     ]
    }
   ],
   "source": [
    "train(model, epochs=10, batch_size=32)"
   ]
  },
  {
   "cell_type": "code",
   "execution_count": 20,
   "metadata": {},
   "outputs": [
    {
     "data": {
      "text/plain": [
       "\"s . i 'm a little bit . i 'm a\""
      ]
     },
     "execution_count": 20,
     "metadata": {},
     "output_type": "execute_result"
    }
   ],
   "source": [
    "generate_seq(model, tokenizer, 's', 10)"
   ]
  }
 ],
 "metadata": {
  "kernelspec": {
   "display_name": "Python 3",
   "language": "python",
   "name": "python3"
  },
  "language_info": {
   "codemirror_mode": {
    "name": "ipython",
    "version": 3
   },
   "file_extension": ".py",
   "mimetype": "text/x-python",
   "name": "python",
   "nbconvert_exporter": "python",
   "pygments_lexer": "ipython3",
   "version": "3.6.8"
  }
 },
 "nbformat": 4,
 "nbformat_minor": 2
}
