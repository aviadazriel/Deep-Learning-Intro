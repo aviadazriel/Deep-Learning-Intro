{
 "cells": [
  {
   "cell_type": "markdown",
   "metadata": {},
   "source": [
    "# Todo\n",
    "1. remove glove \n",
    "2. decrease embeddings size and use word2vec\n",
    "3. use [center loss](https://medium.com/mlreview/experiments-with-a-new-loss-term-added-to-the-standard-cross-entropy-85b080c42446)"
   ]
  },
  {
   "cell_type": "code",
   "execution_count": 47,
   "metadata": {},
   "outputs": [],
   "source": [
    "import warnings\n",
    "warnings.filterwarnings(\"ignore\")\n",
    "import src.dataset as ds\n",
    "import numpy as np\n",
    "import keras.backend as K\n",
    "from src.embeddings import extract_embedding_weights\n",
    "from keras.layers import Embedding, CuDNNLSTM, Bidirectional, Dense\n",
    "from keras.initializers import Constant\n",
    "from keras import Sequential\n",
    "from tensorflow.python.keras.callbacks import TensorBoard\n",
    "from time import time\n",
    "import tensorflow as tf"
   ]
  },
  {
   "cell_type": "code",
   "execution_count": 48,
   "metadata": {},
   "outputs": [],
   "source": [
    "tensorboard = TensorBoard(log_dir='./logs', histogram_freq=0,\n",
    "                          write_graph=True, write_images=False)"
   ]
  },
  {
   "cell_type": "code",
   "execution_count": 49,
   "metadata": {},
   "outputs": [
    {
     "name": "stderr",
     "output_type": "stream",
     "text": [
      "100%|██████████████████████████████████████████████████████| 615/615 [00:01<00:00, 359.65it/s]\n",
      "100%|██████████████████████████████████████████████████████| 615/615 [00:01<00:00, 364.61it/s]\n"
     ]
    }
   ],
   "source": [
    "X, y, tokenizer = ds.load_tokenized_data()\n",
    "embedding_matrix = extract_embedding_weights()"
   ]
  },
  {
   "cell_type": "code",
   "execution_count": 52,
   "metadata": {},
   "outputs": [],
   "source": [
    "def perplexity(y_true, y_pred):\n",
    "    cross_entropy = K.categorical_crossentropy(y_true, y_pred)\n",
    "    perplexity = K.pow(2.0, cross_entropy)\n",
    "    return perplexity"
   ]
  },
  {
   "cell_type": "code",
   "execution_count": 53,
   "metadata": {},
   "outputs": [],
   "source": [
    "def make_model():\n",
    "    # load pre-trained word embeddings into an Embedding layer\n",
    "    # note that we set trainable = False so as to keep the embeddings fixed\n",
    "    EMBEDDING_DIM = 300\n",
    "    num_words = len(tokenizer.word_index) + 1\n",
    "    embedding_layer = Embedding(num_words,\n",
    "                                EMBEDDING_DIM,\n",
    "                                embeddings_initializer=Constant(embedding_matrix),\n",
    "                                input_length=1,\n",
    "                                trainable=False)\n",
    "    # define model\n",
    "    model = Sequential()\n",
    "    model.add(embedding_layer)\n",
    "    model.add(CuDNNLSTM(50))\n",
    "    model.add(Dense(num_words, activation='softmax'))\n",
    "    model.summary()\n",
    "    return model\n",
    "    \n",
    "    \n",
    "def train(model, epochs=5):\n",
    "    # compile network\n",
    "    model.compile(loss='categorical_crossentropy', optimizer='adam', metrics=[perplexity])\n",
    "    # fit network\n",
    "    model.fit(X, y, epochs=epochs, verbose=1, callbacks=[tensorboard])\n",
    "    \n",
    "    \n",
    "# generate a sequence from the model\n",
    "def generate_seq(model, tokenizer, seed_text, n_words):\n",
    "\tin_text, result = seed_text, seed_text\n",
    "\t# generate a fixed number of words\n",
    "\tfor _ in range(n_words):\n",
    "\t\t# encode the text as integer\n",
    "\t\tencoded = tokenizer.texts_to_sequences([in_text])[0]\n",
    "\t\tencoded = np.array(encoded)\n",
    "\t\t# predict a word in the vocabulary\n",
    "\t\tyhat = model.predict_classes(encoded, verbose=0)\n",
    "    \t\t# map predicted word index to word\n",
    "\t\tout_word = ''\n",
    "\t\tfor word, index in tokenizer.word_index.items():\n",
    "\t\t\tif index == yhat:\n",
    "\t\t\t\tout_word = word\n",
    "\t\t\t\tbreak\n",
    "\t\t# append to input\n",
    "\t\tin_text, result = out_word, result + ' ' + out_word\n",
    "\treturn result"
   ]
  },
  {
   "cell_type": "code",
   "execution_count": 54,
   "metadata": {},
   "outputs": [
    {
     "name": "stdout",
     "output_type": "stream",
     "text": [
      "_________________________________________________________________\n",
      "Layer (type)                 Output Shape              Param #   \n",
      "=================================================================\n",
      "embedding_3 (Embedding)      (None, 1, 300)            2251800   \n",
      "_________________________________________________________________\n",
      "cu_dnnlstm_3 (CuDNNLSTM)     (None, 50)                70400     \n",
      "_________________________________________________________________\n",
      "dense_3 (Dense)              (None, 7506)              382806    \n",
      "=================================================================\n",
      "Total params: 2,705,006\n",
      "Trainable params: 453,206\n",
      "Non-trainable params: 2,251,800\n",
      "_________________________________________________________________\n"
     ]
    }
   ],
   "source": [
    "model = make_model()"
   ]
  },
  {
   "cell_type": "code",
   "execution_count": 55,
   "metadata": {},
   "outputs": [
    {
     "name": "stdout",
     "output_type": "stream",
     "text": [
      "Epoch 1/10\n",
      "193246/193246 [==============================] - 49s 252us/step - loss: 5.4143 - perplexity: 772.1470\n",
      "Epoch 2/10\n",
      "193246/193246 [==============================] - 46s 237us/step - loss: 4.7676 - perplexity: 430.7096\n",
      "Epoch 3/10\n",
      "193246/193246 [==============================] - 47s 242us/step - loss: 4.5263 - perplexity: 324.7318\n",
      "Epoch 4/10\n",
      "193246/193246 [==============================] - 47s 243us/step - loss: 4.3925 - perplexity: 281.3069\n",
      "Epoch 5/10\n",
      "193246/193246 [==============================] - 46s 237us/step - loss: 4.3051 - perplexity: 259.8325\n",
      "Epoch 6/10\n",
      "193246/193246 [==============================] - 47s 245us/step - loss: 4.2440 - perplexity: 248.9165\n",
      "Epoch 7/10\n",
      "193246/193246 [==============================] - 46s 240us/step - loss: 4.1988 - perplexity: 241.9717\n",
      "Epoch 8/10\n",
      "193246/193246 [==============================] - 47s 243us/step - loss: 4.1634 - perplexity: 237.6230\n",
      "Epoch 9/10\n",
      "193246/193246 [==============================] - 47s 243us/step - loss: 4.1353 - perplexity: 233.4278\n",
      "Epoch 10/10\n",
      "193246/193246 [==============================] - 46s 240us/step - loss: 4.1127 - perplexity: 231.9927\n"
     ]
    }
   ],
   "source": [
    "train(model, epochs=10)"
   ]
  },
  {
   "cell_type": "code",
   "execution_count": 37,
   "metadata": {},
   "outputs": [
    {
     "data": {
      "text/plain": [
       "\"hello . i 'm not the way . i 'm not\""
      ]
     },
     "execution_count": 37,
     "metadata": {},
     "output_type": "execute_result"
    }
   ],
   "source": [
    "generate_seq(model, tokenizer, 'hello', 10)"
   ]
  },
  {
   "cell_type": "code",
   "execution_count": null,
   "metadata": {},
   "outputs": [],
   "source": []
  }
 ],
 "metadata": {
  "kernelspec": {
   "display_name": "Python 3",
   "language": "python",
   "name": "python3"
  },
  "language_info": {
   "codemirror_mode": {
    "name": "ipython",
    "version": 3
   },
   "file_extension": ".py",
   "mimetype": "text/x-python",
   "name": "python",
   "nbconvert_exporter": "python",
   "pygments_lexer": "ipython3",
   "version": "3.6.8"
  }
 },
 "nbformat": 4,
 "nbformat_minor": 2
}
