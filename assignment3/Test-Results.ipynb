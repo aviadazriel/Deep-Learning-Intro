{
 "cells": [
  {
   "cell_type": "code",
   "execution_count": null,
   "metadata": {},
   "outputs": [],
   "source": [
    "from src.dataset import load_tokenized_test\n",
    "\n",
    "def parse_to_song(text):\n",
    "    return text.replace('. ', '\\n').replace(' \\'', '\\'').replace(' n\\'t', 'n\\'t').replace('eos', '')\n",
    "\n",
    "def test_report(model, reshape_songs=False):\n",
    "    test_data = load_tokenized_test(tokenizer, with_melody=True)\n",
    "    first_words, song_embeddings = zip(*[(song['X'][0], song['melody_embedding']) for song in test_data])\n",
    "    if reshape_songs:\n",
    "        song_embeddings = [song.reshape(128,128,1) for song in song_embeddings]\n",
    "    \n",
    "    for i in range(5):\n",
    "        curr = test_data[i]\n",
    "        predicted_lyrics = model.predict(first_word=first_words[i], song=song_embeddings[i], n_words=250)\n",
    "        lyrics = parse_to_song(predicted_lyrics)\n",
    "        print(f\"song_name: {curr['song_name']}\\nartist: {curr['artist']}\\nfirst word: {first_words[i]}\\nPredicted song:\\n{lyrics}\\n\\n\")\n",
    "        print(\"===========================================\")"
   ]
  }
 ],
 "metadata": {
  "kernelspec": {
   "display_name": "Python 3",
   "language": "python",
   "name": "python3"
  },
  "language_info": {
   "codemirror_mode": {
    "name": "ipython",
    "version": 3
   },
   "file_extension": ".py",
   "mimetype": "text/x-python",
   "name": "python",
   "nbconvert_exporter": "python",
   "pygments_lexer": "ipython3",
   "version": "3.6.8"
  }
 },
 "nbformat": 4,
 "nbformat_minor": 2
}
