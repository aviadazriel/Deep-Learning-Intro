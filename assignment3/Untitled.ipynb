{
 "cells": [
  {
   "cell_type": "code",
   "execution_count": 14,
   "metadata": {},
   "outputs": [
    {
     "name": "stdout",
     "output_type": "stream",
     "text": [
      "The autoreload extension is already loaded. To reload it, use:\n",
      "  %reload_ext autoreload\n"
     ]
    }
   ],
   "source": [
    "import src.dataset as ds\n",
    "import numpy as np\n",
    "from src.embeddings import extract_embedding_weights\n",
    "from keras.layers import Embedding, CuDNNLSTM, Bidirectional, Dense\n",
    "from keras.initializers import Constant\n",
    "from keras import Sequential\n",
    "\n",
    "%load_ext autoreload\n",
    "%autoreload 2"
   ]
  },
  {
   "cell_type": "code",
   "execution_count": 15,
   "metadata": {},
   "outputs": [
    {
     "name": "stderr",
     "output_type": "stream",
     "text": [
      "100%|██████████████████████████████████████████████████████████████████| 615/615 [00:02<00:00, 289.37it/s]\n"
     ]
    }
   ],
   "source": [
    "X, y, tokenizer = ds.load_tokenized_data()"
   ]
  },
  {
   "cell_type": "code",
   "execution_count": 16,
   "metadata": {},
   "outputs": [
    {
     "name": "stderr",
     "output_type": "stream",
     "text": [
      "100%|██████████████████████████████████████████████████████████████████| 615/615 [00:01<00:00, 367.06it/s]\n"
     ]
    }
   ],
   "source": [
    "embedding_matrix = extract_embedding_weights()"
   ]
  },
  {
   "cell_type": "code",
   "execution_count": 17,
   "metadata": {},
   "outputs": [],
   "source": [
    "# load pre-trained word embeddings into an Embedding layer\n",
    "# note that we set trainable = False so as to keep the embeddings fixed\n",
    "EMBEDDING_DIM = 300\n",
    "num_words = len(tokenizer.word_index) + 1\n",
    "embedding_layer = Embedding(num_words,\n",
    "                            EMBEDDING_DIM,\n",
    "                            embeddings_initializer=Constant(embedding_matrix),\n",
    "                            input_length=1,\n",
    "                            trainable=True)"
   ]
  },
  {
   "cell_type": "code",
   "execution_count": 18,
   "metadata": {},
   "outputs": [
    {
     "name": "stdout",
     "output_type": "stream",
     "text": [
      "_________________________________________________________________\n",
      "Layer (type)                 Output Shape              Param #   \n",
      "=================================================================\n",
      "embedding_2 (Embedding)      (None, 1, 300)            2251800   \n",
      "_________________________________________________________________\n",
      "bidirectional_4 (Bidirection (None, 100)               140800    \n",
      "_________________________________________________________________\n",
      "dense_4 (Dense)              (None, 7506)              758106    \n",
      "=================================================================\n",
      "Total params: 3,150,706\n",
      "Trainable params: 3,150,706\n",
      "Non-trainable params: 0\n",
      "_________________________________________________________________\n"
     ]
    }
   ],
   "source": [
    "# define model\n",
    "model = Sequential()\n",
    "model.add(embedding_layer)\n",
    "model.add(Bidirectional(CuDNNLSTM(50)))\n",
    "model.add(Dense(num_words, activation='softmax'))\n",
    "model.summary()"
   ]
  },
  {
   "cell_type": "code",
   "execution_count": 19,
   "metadata": {},
   "outputs": [
    {
     "name": "stdout",
     "output_type": "stream",
     "text": [
      "Epoch 1/100\n",
      " - 47s - loss: 5.0822 - acc: 0.1939\n",
      "Epoch 2/100\n",
      " - 45s - loss: 4.4329 - acc: 0.2271\n",
      "Epoch 3/100\n",
      " - 44s - loss: 4.1963 - acc: 0.2372\n",
      "Epoch 4/100\n",
      " - 44s - loss: 4.0594 - acc: 0.2439\n",
      "Epoch 5/100\n",
      " - 45s - loss: 3.9705 - acc: 0.2475\n",
      "Epoch 6/100\n",
      " - 44s - loss: 3.9100 - acc: 0.2512\n",
      "Epoch 7/100\n",
      " - 45s - loss: 3.8686 - acc: 0.2522\n",
      "Epoch 8/100\n",
      " - 44s - loss: 3.8392 - acc: 0.2528\n",
      "Epoch 9/100\n",
      " - 44s - loss: 3.8163 - acc: 0.2531\n",
      "Epoch 10/100\n",
      " - 44s - loss: 3.8001 - acc: 0.2529\n",
      "Epoch 11/100\n",
      " - 44s - loss: 3.7875 - acc: 0.2528\n",
      "Epoch 12/100\n",
      " - 44s - loss: 3.7772 - acc: 0.2537\n",
      "Epoch 13/100\n",
      " - 44s - loss: 3.7686 - acc: 0.2537\n",
      "Epoch 14/100\n",
      " - 44s - loss: 3.7624 - acc: 0.2534\n",
      "Epoch 15/100\n",
      " - 44s - loss: 3.7572 - acc: 0.2536\n",
      "Epoch 16/100\n",
      " - 44s - loss: 3.7520 - acc: 0.2530\n",
      "Epoch 17/100\n",
      " - 44s - loss: 3.7470 - acc: 0.2537\n",
      "Epoch 18/100\n",
      " - 44s - loss: 3.7448 - acc: 0.2529\n",
      "Epoch 19/100\n",
      " - 44s - loss: 3.7413 - acc: 0.2531\n",
      "Epoch 20/100\n",
      " - 44s - loss: 3.7382 - acc: 0.2534\n",
      "Epoch 21/100\n",
      " - 44s - loss: 3.7352 - acc: 0.2537\n",
      "Epoch 22/100\n",
      " - 44s - loss: 3.7329 - acc: 0.2536\n",
      "Epoch 23/100\n",
      " - 44s - loss: 3.7316 - acc: 0.2537\n",
      "Epoch 24/100\n",
      " - 44s - loss: 3.7294 - acc: 0.2541\n",
      "Epoch 25/100\n",
      " - 44s - loss: 3.7300 - acc: 0.2538\n",
      "Epoch 26/100\n",
      " - 44s - loss: 3.7288 - acc: 0.2538\n",
      "Epoch 27/100\n",
      " - 44s - loss: 3.7271 - acc: 0.2541\n",
      "Epoch 28/100\n",
      " - 44s - loss: 3.7259 - acc: 0.2539\n",
      "Epoch 29/100\n",
      " - 44s - loss: 3.7250 - acc: 0.2548\n",
      "Epoch 30/100\n",
      " - 44s - loss: 3.7251 - acc: 0.2546\n",
      "Epoch 31/100\n",
      " - 44s - loss: 3.7238 - acc: 0.2541\n",
      "Epoch 32/100\n",
      " - 44s - loss: 3.7218 - acc: 0.2545\n",
      "Epoch 33/100\n",
      " - 44s - loss: 3.7215 - acc: 0.2540\n",
      "Epoch 34/100\n",
      " - 44s - loss: 3.7208 - acc: 0.2543\n",
      "Epoch 35/100\n",
      " - 44s - loss: 3.7200 - acc: 0.2547\n",
      "Epoch 36/100\n",
      " - 44s - loss: 3.7200 - acc: 0.2544\n",
      "Epoch 37/100\n",
      " - 44s - loss: 3.7190 - acc: 0.2542\n",
      "Epoch 38/100\n",
      " - 44s - loss: 3.7198 - acc: 0.2540\n",
      "Epoch 39/100\n",
      " - 46s - loss: 3.7180 - acc: 0.2540\n",
      "Epoch 40/100\n",
      " - 44s - loss: 3.7196 - acc: 0.2539\n",
      "Epoch 41/100\n",
      " - 44s - loss: 3.7212 - acc: 0.2551\n",
      "Epoch 42/100\n",
      " - 44s - loss: 3.7186 - acc: 0.2538\n",
      "Epoch 43/100\n",
      " - 44s - loss: 3.7190 - acc: 0.2539\n",
      "Epoch 44/100\n",
      " - 44s - loss: 3.7169 - acc: 0.2546\n",
      "Epoch 45/100\n",
      " - 44s - loss: 3.7165 - acc: 0.2544\n",
      "Epoch 46/100\n",
      " - 44s - loss: 3.7183 - acc: 0.2537\n",
      "Epoch 47/100\n",
      " - 44s - loss: 3.7177 - acc: 0.2539\n",
      "Epoch 48/100\n",
      " - 44s - loss: 3.7179 - acc: 0.2538\n",
      "Epoch 49/100\n",
      " - 44s - loss: 3.7174 - acc: 0.2550\n",
      "Epoch 50/100\n",
      " - 44s - loss: 3.7189 - acc: 0.2540\n",
      "Epoch 51/100\n",
      " - 44s - loss: 3.7173 - acc: 0.2540\n",
      "Epoch 52/100\n",
      " - 44s - loss: 3.7204 - acc: 0.2542\n",
      "Epoch 53/100\n",
      " - 44s - loss: 3.7189 - acc: 0.2541\n",
      "Epoch 54/100\n",
      " - 44s - loss: 3.7172 - acc: 0.2548\n",
      "Epoch 55/100\n",
      " - 44s - loss: 3.7172 - acc: 0.2544\n",
      "Epoch 56/100\n",
      " - 44s - loss: 3.7176 - acc: 0.2544\n",
      "Epoch 57/100\n",
      " - 44s - loss: 3.7166 - acc: 0.2537\n",
      "Epoch 58/100\n",
      " - 44s - loss: 3.7162 - acc: 0.2546\n",
      "Epoch 59/100\n",
      " - 44s - loss: 3.7172 - acc: 0.2540\n",
      "Epoch 60/100\n",
      " - 44s - loss: 3.7162 - acc: 0.2548\n",
      "Epoch 61/100\n",
      " - 44s - loss: 3.7435 - acc: 0.2532\n",
      "Epoch 62/100\n",
      " - 44s - loss: 3.7525 - acc: 0.2534\n",
      "Epoch 63/100\n",
      " - 44s - loss: 3.7520 - acc: 0.2527\n",
      "Epoch 64/100\n",
      " - 44s - loss: 3.7520 - acc: 0.2530\n",
      "Epoch 65/100\n",
      " - 44s - loss: 3.7563 - acc: 0.2532\n",
      "Epoch 66/100\n",
      " - 44s - loss: 3.7588 - acc: 0.2535\n",
      "Epoch 67/100\n",
      " - 44s - loss: 3.7600 - acc: 0.2535\n",
      "Epoch 68/100\n",
      " - 44s - loss: 3.7585 - acc: 0.2532\n",
      "Epoch 69/100\n",
      " - 44s - loss: 3.7573 - acc: 0.2531\n",
      "Epoch 70/100\n",
      " - 44s - loss: 3.7586 - acc: 0.2535\n",
      "Epoch 71/100\n",
      " - 44s - loss: 3.7579 - acc: 0.2537\n",
      "Epoch 72/100\n",
      " - 44s - loss: 3.7569 - acc: 0.2535\n",
      "Epoch 73/100\n",
      " - 44s - loss: 3.7528 - acc: 0.2533\n",
      "Epoch 74/100\n",
      " - 44s - loss: 3.7515 - acc: 0.2533\n",
      "Epoch 75/100\n",
      " - 44s - loss: 3.7536 - acc: 0.2536\n",
      "Epoch 76/100\n",
      " - 44s - loss: 3.7519 - acc: 0.2535\n",
      "Epoch 77/100\n",
      " - 44s - loss: 3.7523 - acc: 0.2531\n",
      "Epoch 78/100\n",
      " - 44s - loss: 3.7526 - acc: 0.2534\n",
      "Epoch 79/100\n",
      " - 44s - loss: 3.7532 - acc: 0.2539\n",
      "Epoch 80/100\n",
      " - 44s - loss: 3.7531 - acc: 0.2535\n",
      "Epoch 81/100\n",
      " - 44s - loss: 3.7216 - acc: 0.2544\n",
      "Epoch 82/100\n",
      " - 44s - loss: 3.7189 - acc: 0.2539\n",
      "Epoch 83/100\n",
      " - 44s - loss: 3.7195 - acc: 0.2542\n",
      "Epoch 84/100\n",
      " - 44s - loss: 3.7224 - acc: 0.2543\n",
      "Epoch 85/100\n",
      " - 44s - loss: 3.7240 - acc: 0.2549\n",
      "Epoch 86/100\n",
      " - 44s - loss: 3.7204 - acc: 0.2544\n",
      "Epoch 87/100\n",
      " - 44s - loss: 3.7201 - acc: 0.2548\n",
      "Epoch 88/100\n",
      " - 44s - loss: 3.7214 - acc: 0.2542\n",
      "Epoch 89/100\n",
      " - 44s - loss: 3.7223 - acc: 0.2544\n",
      "Epoch 90/100\n",
      " - 44s - loss: 3.7244 - acc: 0.2547\n",
      "Epoch 91/100\n",
      " - 44s - loss: 3.7215 - acc: 0.2541\n",
      "Epoch 92/100\n",
      " - 44s - loss: 3.7223 - acc: 0.2542\n",
      "Epoch 93/100\n",
      " - 44s - loss: 3.7250 - acc: 0.2541\n",
      "Epoch 94/100\n",
      " - 44s - loss: 3.7263 - acc: 0.2546\n",
      "Epoch 95/100\n",
      " - 44s - loss: 3.7271 - acc: 0.2541\n",
      "Epoch 96/100\n",
      " - 44s - loss: 3.7330 - acc: 0.2541\n",
      "Epoch 97/100\n",
      " - 44s - loss: 3.7319 - acc: 0.2533\n",
      "Epoch 98/100\n",
      " - 44s - loss: 3.7325 - acc: 0.2539\n",
      "Epoch 99/100\n",
      " - 45s - loss: 3.7410 - acc: 0.2541\n",
      "Epoch 100/100\n",
      " - 44s - loss: 3.7482 - acc: 0.2542\n"
     ]
    },
    {
     "data": {
      "text/plain": [
       "<keras.callbacks.History at 0x1555a6c46d8>"
      ]
     },
     "execution_count": 19,
     "metadata": {},
     "output_type": "execute_result"
    }
   ],
   "source": [
    "# compile network\n",
    "model.compile(loss='categorical_crossentropy', optimizer='adam', metrics=['accuracy'])\n",
    "# fit network\n",
    "model.fit(X, y, epochs=100, verbose=2)"
   ]
  },
  {
   "cell_type": "code",
   "execution_count": 21,
   "metadata": {},
   "outputs": [],
   "source": [
    "# generate a sequence from the model\n",
    "def generate_seq(model, tokenizer, seed_text, n_words):\n",
    "\tin_text, result = seed_text, seed_text\n",
    "\t# generate a fixed number of words\n",
    "\tfor _ in range(n_words):\n",
    "\t\t# encode the text as integer\n",
    "\t\tencoded = tokenizer.texts_to_sequences([in_text])[0]\n",
    "\t\tencoded = np.array(encoded)\n",
    "\t\t# predict a word in the vocabulary\n",
    "\t\tyhat = model.predict_classes(encoded, verbose=0)\n",
    "    \t\t# map predicted word index to word\n",
    "\t\tout_word = ''\n",
    "\t\tfor word, index in tokenizer.word_index.items():\n",
    "\t\t\tif index == yhat:\n",
    "\t\t\t\tout_word = word\n",
    "\t\t\t\tbreak\n",
    "\t\t# append to input\n",
    "\t\tin_text, result = out_word, result + ' ' + out_word\n",
    "\treturn result"
   ]
  },
  {
   "cell_type": "code",
   "execution_count": 23,
   "metadata": {},
   "outputs": [
    {
     "data": {
      "text/plain": [
       "\"i 'm gon na get it 's a little bit .\""
      ]
     },
     "execution_count": 23,
     "metadata": {},
     "output_type": "execute_result"
    }
   ],
   "source": [
    "generate_seq(model, tokenizer, 'i', 10)"
   ]
  },
  {
   "cell_type": "code",
   "execution_count": null,
   "metadata": {},
   "outputs": [],
   "source": []
  }
 ],
 "metadata": {
  "kernelspec": {
   "display_name": "Python [conda env:dlinto] *",
   "language": "python",
   "name": "conda-env-dlinto-py"
  },
  "language_info": {
   "codemirror_mode": {
    "name": "ipython",
    "version": 3
   },
   "file_extension": ".py",
   "mimetype": "text/x-python",
   "name": "python",
   "nbconvert_exporter": "python",
   "pygments_lexer": "ipython3",
   "version": "3.6.8"
  }
 },
 "nbformat": 4,
 "nbformat_minor": 2
}
