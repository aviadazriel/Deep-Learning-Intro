{
 "cells": [
  {
   "cell_type": "code",
   "execution_count": 2,
   "metadata": {},
   "outputs": [],
   "source": [
    "import warnings\n",
    "warnings.filterwarnings(\"ignore\")\n",
    "import pathlib\n",
    "import os\n",
    "from src.midi_processing import get_song_vector, DOC2VEC_MODELS_PATHS\n",
    "import numpy as np\n",
    "from sklearn.manifold import TSNE\n",
    "import joblib\n",
    "from tqdm import tqdm\n",
    "import multiprocessing\n",
    "import matplotlib.pyplot as plt\n",
    "\n",
    "models = {name: joblib.load(os.path.join(DOC2VEC_MODELS_PATHS, f'{name}_model.jblib')) for name in ['drums', 'melody', 'harmony']}"
   ]
  },
  {
   "cell_type": "code",
   "execution_count": 3,
   "metadata": {},
   "outputs": [],
   "source": [
    "midi_files = pathlib.Path('Data/midi_files/')\n",
    "all_midi_paths = list(midi_files.glob('*'))"
   ]
  },
  {
   "cell_type": "code",
   "execution_count": 4,
   "metadata": {},
   "outputs": [
    {
     "name": "stderr",
     "output_type": "stream",
     "text": [
      "  3%|██                                                                               | 16/625 [00:07<03:59,  2.54it/s]"
     ]
    },
    {
     "name": "stdout",
     "output_type": "stream",
     "text": [
      "data byte must be in range 0..127\n",
      "Invalid song: Aaron_Neville_-_Tell_It_Like_It_Is.mid\n"
     ]
    },
    {
     "name": "stderr",
     "output_type": "stream",
     "text": [
      " 20%|███████████████▋                                                                | 123/625 [01:08<03:42,  2.26it/s]"
     ]
    },
    {
     "name": "stdout",
     "output_type": "stream",
     "text": [
      "Could not decode key with 1 flats and mode 255\n",
      "Invalid song: Beastie_Boys_-_Girls.mid\n"
     ]
    },
    {
     "name": "stderr",
     "output_type": "stream",
     "text": [
      " 27%|█████████████████████▏                                                          | 166/625 [01:34<03:43,  2.06it/s]"
     ]
    },
    {
     "name": "stdout",
     "output_type": "stream",
     "text": [
      "data byte must be in range 0..127\n",
      "Invalid song: Billy_Joel_-_Movin'_Out.mid\n"
     ]
    },
    {
     "name": "stderr",
     "output_type": "stream",
     "text": [
      " 27%|█████████████████████▉                                                          | 171/625 [01:35<02:55,  2.58it/s]"
     ]
    },
    {
     "name": "stdout",
     "output_type": "stream",
     "text": [
      "data byte must be in range 0..127\n",
      "Invalid song: Billy_Joel_-_Pressure.mid\n"
     ]
    },
    {
     "name": "stderr",
     "output_type": "stream",
     "text": [
      " 39%|███████████████████████████████                                                 | 243/625 [02:13<02:50,  2.25it/s]"
     ]
    },
    {
     "name": "stdout",
     "output_type": "stream",
     "text": [
      "\n",
      "Invalid song: Brian_McKnight_-_On_The_Down_Low.mid\n"
     ]
    },
    {
     "name": "stderr",
     "output_type": "stream",
     "text": [
      " 58%|██████████████████████████████████████████████▏                                 | 361/625 [03:14<02:17,  1.92it/s]"
     ]
    },
    {
     "name": "stdout",
     "output_type": "stream",
     "text": [
      "Could not decode key with 4 flats and mode 255\n",
      "Invalid song: Dan_Fogelberg_-_Leader_of_the_Band.mid\n"
     ]
    },
    {
     "name": "stderr",
     "output_type": "stream",
     "text": [
      " 59%|██████████████████████████████████████████████▉                                 | 367/625 [03:17<02:01,  2.12it/s]"
     ]
    },
    {
     "name": "stdout",
     "output_type": "stream",
     "text": [
      "Could not decode key with 16 sharps and mode 1\n",
      "Invalid song: David_Bowie_-_Lazarus.mid\n"
     ]
    },
    {
     "name": "stderr",
     "output_type": "stream",
     "text": [
      "100%|████████████████████████████████████████████████████████████████████████████████| 625/625 [05:42<00:00,  2.10it/s]\n"
     ]
    }
   ],
   "source": [
    "songs_vectors = []\n",
    "song_names = []\n",
    "\n",
    "for midi_file in tqdm(all_midi_paths, total=len(all_midi_paths)):\n",
    "    try:\n",
    "        songs_vectors.append(get_song_vector(str(midi_file), models))\n",
    "        song_names.append(midi_file.name)\n",
    "    except Exception as e:\n",
    "        print(e)\n",
    "        print(f\"Invalid song: {midi_file.name}\")\n",
    "        continue        "
   ]
  },
  {
   "cell_type": "code",
   "execution_count": 8,
   "metadata": {},
   "outputs": [
    {
     "name": "stdout",
     "output_type": "stream",
     "text": [
      "[t-SNE] Computing 91 nearest neighbors...\n",
      "[t-SNE] Indexed 618 samples in 0.006s...\n",
      "[t-SNE] Computed neighbors for 618 samples in 0.148s...\n",
      "[t-SNE] Computed conditional probabilities for sample 618 / 618\n",
      "[t-SNE] Mean sigma: 3.475403\n",
      "[t-SNE] Computed conditional probabilities in 0.047s\n",
      "[t-SNE] Iteration 50: error = 104.7694244, gradient norm = 0.2812013 (50 iterations in 0.294s)\n",
      "[t-SNE] Iteration 100: error = 104.6068726, gradient norm = 0.3478881 (50 iterations in 0.336s)\n",
      "[t-SNE] Iteration 150: error = 109.5602646, gradient norm = 0.2528093 (50 iterations in 0.363s)\n",
      "[t-SNE] Iteration 200: error = 108.0943680, gradient norm = 0.2930265 (50 iterations in 0.443s)\n",
      "[t-SNE] Iteration 250: error = 109.7697983, gradient norm = 0.2706953 (50 iterations in 0.336s)\n",
      "[t-SNE] KL divergence after 250 iterations with early exaggeration: 109.769798\n",
      "[t-SNE] Iteration 300: error = 2.6244369, gradient norm = 0.0038796 (50 iterations in 0.276s)\n",
      "[t-SNE] Iteration 350: error = 1.9342003, gradient norm = 0.0025215 (50 iterations in 0.331s)\n",
      "[t-SNE] Iteration 400: error = 1.8677335, gradient norm = 0.0009585 (50 iterations in 0.216s)\n",
      "[t-SNE] Iteration 450: error = 1.8365697, gradient norm = 0.0009867 (50 iterations in 0.218s)\n",
      "[t-SNE] Iteration 500: error = 1.8026863, gradient norm = 0.0008590 (50 iterations in 0.216s)\n",
      "[t-SNE] Iteration 550: error = 1.7790096, gradient norm = 0.0008426 (50 iterations in 0.213s)\n",
      "[t-SNE] Iteration 600: error = 1.7600194, gradient norm = 0.0008574 (50 iterations in 0.236s)\n",
      "[t-SNE] Iteration 650: error = 1.7433865, gradient norm = 0.0006138 (50 iterations in 0.217s)\n",
      "[t-SNE] Iteration 700: error = 1.7293690, gradient norm = 0.0010158 (50 iterations in 0.220s)\n",
      "[t-SNE] Iteration 750: error = 1.7183050, gradient norm = 0.0004892 (50 iterations in 0.241s)\n",
      "[t-SNE] Iteration 800: error = 1.7116596, gradient norm = 0.0005518 (50 iterations in 0.212s)\n",
      "[t-SNE] Iteration 850: error = 1.7083639, gradient norm = 0.0002618 (50 iterations in 0.259s)\n",
      "[t-SNE] Iteration 900: error = 1.7075062, gradient norm = 0.0002089 (50 iterations in 0.226s)\n",
      "[t-SNE] Iteration 950: error = 1.7077016, gradient norm = 0.0000752 (50 iterations in 0.234s)\n",
      "[t-SNE] Iteration 1000: error = 1.7073810, gradient norm = 0.0000793 (50 iterations in 0.215s)\n",
      "[t-SNE] KL divergence after 1000 iterations: 1.707381\n"
     ]
    }
   ],
   "source": [
    "songs_vectors = np.array(songs_vectors)\n",
    "\n",
    "tsne = TSNE(n_components=2, verbose=3, random_state=84)\n",
    "vectors_transformed = tsne.fit_transform(songs_vectors)"
   ]
  },
  {
   "cell_type": "code",
   "execution_count": 22,
   "metadata": {},
   "outputs": [
    {
     "data": {
      "text/plain": [
       "'C:\\\\Msc\\\\DeepLearning\\\\Deep-Learning-Intro\\\\assignment3\\\\Interactive-Midi-Doc2Vec.html'"
      ]
     },
     "execution_count": 22,
     "metadata": {},
     "output_type": "execute_result"
    }
   ],
   "source": [
    "from bokeh.plotting import figure, output_file, save\n",
    "from bokeh.models import ColumnDataSource, HoverTool\n",
    "\n",
    "# output to static HTML file\n",
    "output_file(\"Interactive-Midi-Doc2Vec.html\")\n",
    "\n",
    "data_source = ColumnDataSource(data=dict(x=vectors_transformed[:, 0], y=vectors_transformed[:, 1], song_name=song_names))\n",
    "hover = HoverTool(tooltips=[\n",
    "    (\"song_name\", \"@song_name\"),\n",
    "])\n",
    "\n",
    "p = figure(sizing_mode='stretch_both', title=\"Melody embedding TSNE visualization\")\n",
    "p.add_tools(hover)\n",
    "\n",
    "\n",
    "# add a circle renderer with a size, color, and alpha\n",
    "p.circle(source=data_source, x='x', y='y', size=10, color=\"navy\", alpha=0.5)\n",
    "\n",
    "# show the results\n",
    "save(p)"
   ]
  }
 ],
 "metadata": {
  "kernelspec": {
   "display_name": "Python 3",
   "language": "python",
   "name": "python3"
  },
  "language_info": {
   "codemirror_mode": {
    "name": "ipython",
    "version": 3
   },
   "file_extension": ".py",
   "mimetype": "text/x-python",
   "name": "python",
   "nbconvert_exporter": "python",
   "pygments_lexer": "ipython3",
   "version": "3.6.8"
  }
 },
 "nbformat": 4,
 "nbformat_minor": 2
}
