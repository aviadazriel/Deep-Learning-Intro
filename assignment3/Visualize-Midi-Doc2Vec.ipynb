{
 "cells": [
  {
   "cell_type": "code",
   "execution_count": 8,
   "metadata": {},
   "outputs": [],
   "source": [
    "import warnings\n",
    "warnings.filterwarnings(\"ignore\")\n",
    "import pathlib\n",
    "import os\n",
    "from src.midi_processing import get_song_vector, DOC2VEC_MODELS_PATHS\n",
    "import numpy as np\n",
    "from sklearn.manifold import TSNE\n",
    "import joblib\n",
    "from tqdm import tqdm\n",
    "import multiprocessing\n",
    "import matplotlib.pyplot as plt\n",
    "\n",
    "models = {name: joblib.load(os.path.join(DOC2VEC_MODELS_PATHS, f'{name}_model.jblib')) for name in ['drums', 'melody', 'harmony']}"
   ]
  },
  {
   "cell_type": "code",
   "execution_count": 9,
   "metadata": {},
   "outputs": [],
   "source": [
    "midi_files = pathlib.Path('Data/midi_files/')\n",
    "all_midi_paths = list(midi_files.glob('*'))"
   ]
  },
  {
   "cell_type": "code",
   "execution_count": 10,
   "metadata": {},
   "outputs": [
    {
     "name": "stderr",
     "output_type": "stream",
     "text": [
      "  3%|█▍                                                    | 16/624 [00:04<02:33,  3.95it/s]"
     ]
    },
    {
     "name": "stdout",
     "output_type": "stream",
     "text": [
      "data byte must be in range 0..127\n",
      "Invalid song: Aaron_Neville_-_Tell_It_Like_It_Is.mid\n"
     ]
    },
    {
     "name": "stderr",
     "output_type": "stream",
     "text": [
      " 20%|██████████▍                                          | 123/624 [00:43<02:08,  3.91it/s]"
     ]
    },
    {
     "name": "stdout",
     "output_type": "stream",
     "text": [
      "Could not decode key with 1 flats and mode 255\n",
      "Invalid song: Beastie_Boys_-_Girls.mid\n"
     ]
    },
    {
     "name": "stderr",
     "output_type": "stream",
     "text": [
      " 27%|██████████████                                       | 166/624 [00:58<02:05,  3.64it/s]"
     ]
    },
    {
     "name": "stdout",
     "output_type": "stream",
     "text": [
      "data byte must be in range 0..127\n",
      "Invalid song: Billy_Joel_-_Movin'_Out.mid\n"
     ]
    },
    {
     "name": "stderr",
     "output_type": "stream",
     "text": [
      " 27%|██████████████▌                                      | 171/624 [00:59<01:53,  4.00it/s]"
     ]
    },
    {
     "name": "stdout",
     "output_type": "stream",
     "text": [
      "data byte must be in range 0..127\n",
      "Invalid song: Billy_Joel_-_Pressure.mid\n"
     ]
    },
    {
     "name": "stderr",
     "output_type": "stream",
     "text": [
      " 39%|████████████████████▋                                | 243/624 [01:23<01:46,  3.56it/s]"
     ]
    },
    {
     "name": "stdout",
     "output_type": "stream",
     "text": [
      "\n",
      "Invalid song: Brian_McKnight_-_On_The_Down_Low.mid\n"
     ]
    },
    {
     "name": "stderr",
     "output_type": "stream",
     "text": [
      " 58%|██████████████████████████████▋                      | 361/624 [02:03<01:15,  3.49it/s]"
     ]
    },
    {
     "name": "stdout",
     "output_type": "stream",
     "text": [
      "Could not decode key with 4 flats and mode 255\n",
      "Invalid song: Dan_Fogelberg_-_Leader_of_the_Band.mid\n"
     ]
    },
    {
     "name": "stderr",
     "output_type": "stream",
     "text": [
      " 59%|███████████████████████████████▏                     | 367/624 [02:05<01:20,  3.19it/s]"
     ]
    },
    {
     "name": "stdout",
     "output_type": "stream",
     "text": [
      "Could not decode key with 16 sharps and mode 1\n",
      "Invalid song: David_Bowie_-_Lazarus.mid\n"
     ]
    },
    {
     "name": "stderr",
     "output_type": "stream",
     "text": [
      "100%|█████████████████████████████████████████████████████| 624/624 [03:35<00:00,  3.69it/s]\n"
     ]
    }
   ],
   "source": [
    "songs_vectors = []\n",
    "song_names = []\n",
    "\n",
    "for midi_file in tqdm(all_midi_paths, total=len(all_midi_paths)):\n",
    "    try:\n",
    "        songs_vectors.append(get_song_vector(str(midi_file), models))\n",
    "        song_names.append(midi_file.name)\n",
    "    except Exception as e:\n",
    "        print(e)\n",
    "        print(f\"Invalid song: {midi_file.name}\")\n",
    "        continue        "
   ]
  },
  {
   "cell_type": "code",
   "execution_count": 11,
   "metadata": {},
   "outputs": [
    {
     "name": "stdout",
     "output_type": "stream",
     "text": [
      "[t-SNE] Computing 91 nearest neighbors...\n",
      "[t-SNE] Indexed 617 samples in 0.003s...\n",
      "[t-SNE] Computed neighbors for 617 samples in 0.097s...\n",
      "[t-SNE] Computed conditional probabilities for sample 617 / 617\n",
      "[t-SNE] Mean sigma: 5.001674\n",
      "[t-SNE] Computed conditional probabilities in 0.029s\n",
      "[t-SNE] Iteration 50: error = 109.3854065, gradient norm = 0.2940904 (50 iterations in 0.201s)\n",
      "[t-SNE] Iteration 100: error = 115.3806458, gradient norm = 0.2489248 (50 iterations in 0.201s)\n",
      "[t-SNE] Iteration 150: error = 115.6661301, gradient norm = 0.2597208 (50 iterations in 0.199s)\n",
      "[t-SNE] Iteration 200: error = 116.8240967, gradient norm = 0.2599342 (50 iterations in 0.214s)\n",
      "[t-SNE] Iteration 250: error = 118.1528931, gradient norm = 0.2848582 (50 iterations in 0.194s)\n",
      "[t-SNE] KL divergence after 250 iterations with early exaggeration: 118.152893\n",
      "[t-SNE] Iteration 300: error = 2.8647766, gradient norm = 0.0051359 (50 iterations in 0.175s)\n",
      "[t-SNE] Iteration 350: error = 2.2743156, gradient norm = 0.0015644 (50 iterations in 0.180s)\n",
      "[t-SNE] Iteration 400: error = 2.1474383, gradient norm = 0.0015189 (50 iterations in 0.183s)\n",
      "[t-SNE] Iteration 450: error = 2.0723889, gradient norm = 0.0009576 (50 iterations in 0.174s)\n",
      "[t-SNE] Iteration 500: error = 1.9650073, gradient norm = 0.0005761 (50 iterations in 0.133s)\n",
      "[t-SNE] Iteration 550: error = 1.9533582, gradient norm = 0.0003702 (50 iterations in 0.129s)\n",
      "[t-SNE] Iteration 600: error = 1.9426399, gradient norm = 0.0003382 (50 iterations in 0.128s)\n",
      "[t-SNE] Iteration 650: error = 1.9292870, gradient norm = 0.0006889 (50 iterations in 0.131s)\n",
      "[t-SNE] Iteration 700: error = 1.9158571, gradient norm = 0.0003714 (50 iterations in 0.129s)\n",
      "[t-SNE] Iteration 750: error = 1.8992893, gradient norm = 0.0005162 (50 iterations in 0.131s)\n",
      "[t-SNE] Iteration 800: error = 1.8886648, gradient norm = 0.0005333 (50 iterations in 0.130s)\n",
      "[t-SNE] Iteration 850: error = 1.8666496, gradient norm = 0.0027216 (50 iterations in 0.128s)\n",
      "[t-SNE] Iteration 900: error = 1.8506761, gradient norm = 0.0007604 (50 iterations in 0.128s)\n",
      "[t-SNE] Iteration 950: error = 1.8381230, gradient norm = 0.0008803 (50 iterations in 0.126s)\n",
      "[t-SNE] Iteration 1000: error = 1.8326128, gradient norm = 0.0003610 (50 iterations in 0.127s)\n",
      "[t-SNE] KL divergence after 1000 iterations: 1.832613\n"
     ]
    }
   ],
   "source": [
    "songs_vectors = np.array(songs_vectors)\n",
    "\n",
    "tsne = TSNE(n_components=2, verbose=3, random_state=84)\n",
    "vectors_transformed = tsne.fit_transform(songs_vectors)"
   ]
  },
  {
   "cell_type": "code",
   "execution_count": 12,
   "metadata": {},
   "outputs": [
    {
     "data": {
      "text/plain": [
       "'C:\\\\Users\\\\Eli\\\\Workspace\\\\Deep-Learning-Intro\\\\assignment3\\\\Interactive-Midi-Doc2Vec.html'"
      ]
     },
     "execution_count": 12,
     "metadata": {},
     "output_type": "execute_result"
    }
   ],
   "source": [
    "from bokeh.plotting import figure, output_file, save\n",
    "from bokeh.models import ColumnDataSource, HoverTool\n",
    "\n",
    "# output to static HTML file\n",
    "output_file(\"Interactive-Midi-Doc2Vec.html\")\n",
    "\n",
    "data_source = ColumnDataSource(data=dict(x=vectors_transformed[:, 0], y=vectors_transformed[:, 1], song_name=song_names))\n",
    "hover = HoverTool(tooltips=[\n",
    "    (\"song_name\", \"@song_name\"),\n",
    "])\n",
    "\n",
    "p = figure(sizing_mode='stretch_both', title=\"Melody embedding TSNE visualization\")\n",
    "p.add_tools(hover)\n",
    "\n",
    "\n",
    "# add a circle renderer with a size, color, and alpha\n",
    "p.circle(source=data_source, x='x', y='y', size=10, color=\"navy\", alpha=0.5)\n",
    "\n",
    "# show the results\n",
    "save(p)"
   ]
  }
 ],
 "metadata": {
  "kernelspec": {
   "display_name": "Python 3",
   "language": "python",
   "name": "python3"
  },
  "language_info": {
   "codemirror_mode": {
    "name": "ipython",
    "version": 3
   },
   "file_extension": ".py",
   "mimetype": "text/x-python",
   "name": "python",
   "nbconvert_exporter": "python",
   "pygments_lexer": "ipython3",
   "version": "3.6.8"
  }
 },
 "nbformat": 4,
 "nbformat_minor": 2
}
