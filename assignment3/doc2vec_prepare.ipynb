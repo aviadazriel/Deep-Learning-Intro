{
 "cells": [
  {
   "cell_type": "code",
   "execution_count": 1,
   "metadata": {},
   "outputs": [],
   "source": [
    "import joblib\n",
    "import numpy as np\n",
    "from src.midi_processing import prepare_doc2vec"
   ]
  },
  {
   "cell_type": "code",
   "execution_count": 2,
   "metadata": {},
   "outputs": [],
   "source": [
    "# load the entire melody, harmony and drums samples we extracted from the songs\n",
    "data = joblib.load('midi_preprocess_data.jblib')"
   ]
  },
  {
   "cell_type": "code",
   "execution_count": 5,
   "metadata": {},
   "outputs": [],
   "source": [
    "# Extract each one of the samples type seperatly \n",
    "X_drums = np.vstack([i for i in data[0] if len(i.shape) > 1])\n",
    "X_melody = np.vstack([i for i in data[1] if len(i.shape) > 1])\n",
    "X_harmony = np.vstack([i for i in data[2] if len(i.shape) > 1])"
   ]
  },
  {
   "cell_type": "code",
   "execution_count": 4,
   "metadata": {},
   "outputs": [],
   "source": [
    "# Train the Doc2Vec models\n",
    "drums_model = prepare_doc2vec(X_drums)\n",
    "melody_model = prepare_doc2vec(X_melody)\n",
    "harmony_model = prepare_doc2vec(X_harmony)"
   ]
  },
  {
   "cell_type": "code",
   "execution_count": null,
   "metadata": {},
   "outputs": [],
   "source": [
    "# Dump the models for future loading\n",
    "joblib.dump('midi_preprocess/models/drums_model')\n",
    "joblib.dump('midi_preprocess/models/melody_model')\n",
    "joblib.dump('midi_preprocess/models/harmony_model')"
   ]
  }
 ],
 "metadata": {
  "kernelspec": {
   "display_name": "Python 3",
   "language": "python",
   "name": "python3"
  },
  "language_info": {
   "codemirror_mode": {
    "name": "ipython",
    "version": 3
   },
   "file_extension": ".py",
   "mimetype": "text/x-python",
   "name": "python",
   "nbconvert_exporter": "python",
   "pygments_lexer": "ipython3",
   "version": "3.7.0"
  }
 },
 "nbformat": 4,
 "nbformat_minor": 2
}
